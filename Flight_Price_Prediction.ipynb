{
 "cells": [
  {
   "cell_type": "code",
   "execution_count": 1,
   "metadata": {},
   "outputs": [],
   "source": [
    "# the goal is to predict the price for individual flight"
   ]
  },
  {
   "cell_type": "code",
   "execution_count": 2,
   "metadata": {},
   "outputs": [],
   "source": [
    "import pandas as pd\n",
    "import numpy as np\n",
    "import seaborn as sns\n",
    "import matplotlib.pyplot as plt"
   ]
  },
  {
   "cell_type": "markdown",
   "metadata": {},
   "source": [
    "## Preparing our Training Dataset and Testing Dataset"
   ]
  },
  {
   "cell_type": "code",
   "execution_count": 3,
   "metadata": {},
   "outputs": [
    {
     "data": {
      "text/html": [
       "<div>\n",
       "<style scoped>\n",
       "    .dataframe tbody tr th:only-of-type {\n",
       "        vertical-align: middle;\n",
       "    }\n",
       "\n",
       "    .dataframe tbody tr th {\n",
       "        vertical-align: top;\n",
       "    }\n",
       "\n",
       "    .dataframe thead th {\n",
       "        text-align: right;\n",
       "    }\n",
       "</style>\n",
       "<table border=\"1\" class=\"dataframe\">\n",
       "  <thead>\n",
       "    <tr style=\"text-align: right;\">\n",
       "      <th></th>\n",
       "      <th>Airline</th>\n",
       "      <th>Date_of_Journey</th>\n",
       "      <th>Source</th>\n",
       "      <th>Destination</th>\n",
       "      <th>Route</th>\n",
       "      <th>Dep_Time</th>\n",
       "      <th>Arrival_Time</th>\n",
       "      <th>Duration</th>\n",
       "      <th>Total_Stops</th>\n",
       "      <th>Additional_Info</th>\n",
       "      <th>Price</th>\n",
       "    </tr>\n",
       "  </thead>\n",
       "  <tbody>\n",
       "    <tr>\n",
       "      <th>0</th>\n",
       "      <td>IndiGo</td>\n",
       "      <td>24/03/2019</td>\n",
       "      <td>Banglore</td>\n",
       "      <td>New Delhi</td>\n",
       "      <td>BLR → DEL</td>\n",
       "      <td>22:20</td>\n",
       "      <td>01:10 22 Mar</td>\n",
       "      <td>2h 50m</td>\n",
       "      <td>non-stop</td>\n",
       "      <td>No info</td>\n",
       "      <td>3897</td>\n",
       "    </tr>\n",
       "    <tr>\n",
       "      <th>1</th>\n",
       "      <td>Air India</td>\n",
       "      <td>1/05/2019</td>\n",
       "      <td>Kolkata</td>\n",
       "      <td>Banglore</td>\n",
       "      <td>CCU → IXR → BBI → BLR</td>\n",
       "      <td>05:50</td>\n",
       "      <td>13:15</td>\n",
       "      <td>7h 25m</td>\n",
       "      <td>2 stops</td>\n",
       "      <td>No info</td>\n",
       "      <td>7662</td>\n",
       "    </tr>\n",
       "    <tr>\n",
       "      <th>2</th>\n",
       "      <td>Jet Airways</td>\n",
       "      <td>9/06/2019</td>\n",
       "      <td>Delhi</td>\n",
       "      <td>Cochin</td>\n",
       "      <td>DEL → LKO → BOM → COK</td>\n",
       "      <td>09:25</td>\n",
       "      <td>04:25 10 Jun</td>\n",
       "      <td>19h</td>\n",
       "      <td>2 stops</td>\n",
       "      <td>No info</td>\n",
       "      <td>13882</td>\n",
       "    </tr>\n",
       "    <tr>\n",
       "      <th>3</th>\n",
       "      <td>IndiGo</td>\n",
       "      <td>12/05/2019</td>\n",
       "      <td>Kolkata</td>\n",
       "      <td>Banglore</td>\n",
       "      <td>CCU → NAG → BLR</td>\n",
       "      <td>18:05</td>\n",
       "      <td>23:30</td>\n",
       "      <td>5h 25m</td>\n",
       "      <td>1 stop</td>\n",
       "      <td>No info</td>\n",
       "      <td>6218</td>\n",
       "    </tr>\n",
       "    <tr>\n",
       "      <th>4</th>\n",
       "      <td>IndiGo</td>\n",
       "      <td>01/03/2019</td>\n",
       "      <td>Banglore</td>\n",
       "      <td>New Delhi</td>\n",
       "      <td>BLR → NAG → DEL</td>\n",
       "      <td>16:50</td>\n",
       "      <td>21:35</td>\n",
       "      <td>4h 45m</td>\n",
       "      <td>1 stop</td>\n",
       "      <td>No info</td>\n",
       "      <td>13302</td>\n",
       "    </tr>\n",
       "    <tr>\n",
       "      <th>...</th>\n",
       "      <td>...</td>\n",
       "      <td>...</td>\n",
       "      <td>...</td>\n",
       "      <td>...</td>\n",
       "      <td>...</td>\n",
       "      <td>...</td>\n",
       "      <td>...</td>\n",
       "      <td>...</td>\n",
       "      <td>...</td>\n",
       "      <td>...</td>\n",
       "      <td>...</td>\n",
       "    </tr>\n",
       "    <tr>\n",
       "      <th>10678</th>\n",
       "      <td>Air Asia</td>\n",
       "      <td>9/04/2019</td>\n",
       "      <td>Kolkata</td>\n",
       "      <td>Banglore</td>\n",
       "      <td>CCU → BLR</td>\n",
       "      <td>19:55</td>\n",
       "      <td>22:25</td>\n",
       "      <td>2h 30m</td>\n",
       "      <td>non-stop</td>\n",
       "      <td>No info</td>\n",
       "      <td>4107</td>\n",
       "    </tr>\n",
       "    <tr>\n",
       "      <th>10679</th>\n",
       "      <td>Air India</td>\n",
       "      <td>27/04/2019</td>\n",
       "      <td>Kolkata</td>\n",
       "      <td>Banglore</td>\n",
       "      <td>CCU → BLR</td>\n",
       "      <td>20:45</td>\n",
       "      <td>23:20</td>\n",
       "      <td>2h 35m</td>\n",
       "      <td>non-stop</td>\n",
       "      <td>No info</td>\n",
       "      <td>4145</td>\n",
       "    </tr>\n",
       "    <tr>\n",
       "      <th>10680</th>\n",
       "      <td>Jet Airways</td>\n",
       "      <td>27/04/2019</td>\n",
       "      <td>Banglore</td>\n",
       "      <td>Delhi</td>\n",
       "      <td>BLR → DEL</td>\n",
       "      <td>08:20</td>\n",
       "      <td>11:20</td>\n",
       "      <td>3h</td>\n",
       "      <td>non-stop</td>\n",
       "      <td>No info</td>\n",
       "      <td>7229</td>\n",
       "    </tr>\n",
       "    <tr>\n",
       "      <th>10681</th>\n",
       "      <td>Vistara</td>\n",
       "      <td>01/03/2019</td>\n",
       "      <td>Banglore</td>\n",
       "      <td>New Delhi</td>\n",
       "      <td>BLR → DEL</td>\n",
       "      <td>11:30</td>\n",
       "      <td>14:10</td>\n",
       "      <td>2h 40m</td>\n",
       "      <td>non-stop</td>\n",
       "      <td>No info</td>\n",
       "      <td>12648</td>\n",
       "    </tr>\n",
       "    <tr>\n",
       "      <th>10682</th>\n",
       "      <td>Air India</td>\n",
       "      <td>9/05/2019</td>\n",
       "      <td>Delhi</td>\n",
       "      <td>Cochin</td>\n",
       "      <td>DEL → GOI → BOM → COK</td>\n",
       "      <td>10:55</td>\n",
       "      <td>19:15</td>\n",
       "      <td>8h 20m</td>\n",
       "      <td>2 stops</td>\n",
       "      <td>No info</td>\n",
       "      <td>11753</td>\n",
       "    </tr>\n",
       "  </tbody>\n",
       "</table>\n",
       "<p>10683 rows × 11 columns</p>\n",
       "</div>"
      ],
      "text/plain": [
       "           Airline Date_of_Journey    Source Destination  \\\n",
       "0           IndiGo      24/03/2019  Banglore   New Delhi   \n",
       "1        Air India       1/05/2019   Kolkata    Banglore   \n",
       "2      Jet Airways       9/06/2019     Delhi      Cochin   \n",
       "3           IndiGo      12/05/2019   Kolkata    Banglore   \n",
       "4           IndiGo      01/03/2019  Banglore   New Delhi   \n",
       "...            ...             ...       ...         ...   \n",
       "10678     Air Asia       9/04/2019   Kolkata    Banglore   \n",
       "10679    Air India      27/04/2019   Kolkata    Banglore   \n",
       "10680  Jet Airways      27/04/2019  Banglore       Delhi   \n",
       "10681      Vistara      01/03/2019  Banglore   New Delhi   \n",
       "10682    Air India       9/05/2019     Delhi      Cochin   \n",
       "\n",
       "                       Route Dep_Time  Arrival_Time Duration Total_Stops  \\\n",
       "0                  BLR → DEL    22:20  01:10 22 Mar   2h 50m    non-stop   \n",
       "1      CCU → IXR → BBI → BLR    05:50         13:15   7h 25m     2 stops   \n",
       "2      DEL → LKO → BOM → COK    09:25  04:25 10 Jun      19h     2 stops   \n",
       "3            CCU → NAG → BLR    18:05         23:30   5h 25m      1 stop   \n",
       "4            BLR → NAG → DEL    16:50         21:35   4h 45m      1 stop   \n",
       "...                      ...      ...           ...      ...         ...   \n",
       "10678              CCU → BLR    19:55         22:25   2h 30m    non-stop   \n",
       "10679              CCU → BLR    20:45         23:20   2h 35m    non-stop   \n",
       "10680              BLR → DEL    08:20         11:20       3h    non-stop   \n",
       "10681              BLR → DEL    11:30         14:10   2h 40m    non-stop   \n",
       "10682  DEL → GOI → BOM → COK    10:55         19:15   8h 20m     2 stops   \n",
       "\n",
       "      Additional_Info  Price  \n",
       "0             No info   3897  \n",
       "1             No info   7662  \n",
       "2             No info  13882  \n",
       "3             No info   6218  \n",
       "4             No info  13302  \n",
       "...               ...    ...  \n",
       "10678         No info   4107  \n",
       "10679         No info   4145  \n",
       "10680         No info   7229  \n",
       "10681         No info  12648  \n",
       "10682         No info  11753  \n",
       "\n",
       "[10683 rows x 11 columns]"
      ]
     },
     "execution_count": 3,
     "metadata": {},
     "output_type": "execute_result"
    }
   ],
   "source": [
    "data = pd.read_excel('Data_Train.xlsx')\n",
    "data"
   ]
  },
  {
   "cell_type": "code",
   "execution_count": 4,
   "metadata": {},
   "outputs": [
    {
     "name": "stdout",
     "output_type": "stream",
     "text": [
      "<class 'pandas.core.frame.DataFrame'>\n",
      "RangeIndex: 2671 entries, 0 to 2670\n",
      "Data columns (total 10 columns):\n",
      " #   Column           Non-Null Count  Dtype \n",
      "---  ------           --------------  ----- \n",
      " 0   Airline          2671 non-null   object\n",
      " 1   Date_of_Journey  2671 non-null   object\n",
      " 2   Source           2671 non-null   object\n",
      " 3   Destination      2671 non-null   object\n",
      " 4   Route            2671 non-null   object\n",
      " 5   Dep_Time         2671 non-null   object\n",
      " 6   Arrival_Time     2671 non-null   object\n",
      " 7   Duration         2671 non-null   object\n",
      " 8   Total_Stops      2671 non-null   object\n",
      " 9   Additional_Info  2671 non-null   object\n",
      "dtypes: object(10)\n",
      "memory usage: 208.8+ KB\n"
     ]
    }
   ],
   "source": [
    "# basic information about the test data\n",
    "data_test = pd.read_excel('Test_set.xlsx')\n",
    "data_test.info()"
   ]
  },
  {
   "cell_type": "code",
   "execution_count": 5,
   "metadata": {},
   "outputs": [
    {
     "name": "stdout",
     "output_type": "stream",
     "text": [
      "<class 'pandas.core.frame.DataFrame'>\n",
      "RangeIndex: 10683 entries, 0 to 10682\n",
      "Data columns (total 11 columns):\n",
      " #   Column           Non-Null Count  Dtype \n",
      "---  ------           --------------  ----- \n",
      " 0   Airline          10683 non-null  object\n",
      " 1   Date_of_Journey  10683 non-null  object\n",
      " 2   Source           10683 non-null  object\n",
      " 3   Destination      10683 non-null  object\n",
      " 4   Route            10682 non-null  object\n",
      " 5   Dep_Time         10683 non-null  object\n",
      " 6   Arrival_Time     10683 non-null  object\n",
      " 7   Duration         10683 non-null  object\n",
      " 8   Total_Stops      10682 non-null  object\n",
      " 9   Additional_Info  10683 non-null  object\n",
      " 10  Price            10683 non-null  int64 \n",
      "dtypes: int64(1), object(10)\n",
      "memory usage: 918.2+ KB\n"
     ]
    }
   ],
   "source": [
    "# basic information about the train data\n",
    "data.info()"
   ]
  },
  {
   "cell_type": "code",
   "execution_count": 6,
   "metadata": {},
   "outputs": [
    {
     "name": "stdout",
     "output_type": "stream",
     "text": [
      "count    10683.000000\n",
      "mean      9087.064121\n",
      "std       4611.359167\n",
      "min       1759.000000\n",
      "25%       5277.000000\n",
      "50%       8372.000000\n",
      "75%      12373.000000\n",
      "max      79512.000000\n",
      "Name: Price, dtype: float64\n"
     ]
    },
    {
     "data": {
      "text/plain": [
       "<AxesSubplot:ylabel='Frequency'>"
      ]
     },
     "execution_count": 6,
     "metadata": {},
     "output_type": "execute_result"
    },
    {
     "data": {
      "image/png": "[encoded data removed]",
      "text/plain": [
       "<Figure size 432x288 with 1 Axes>"
      ]
     },
     "metadata": {
      "needs_background": "light"
     },
     "output_type": "display_data"
    }
   ],
   "source": [
    "# take a look at our independent values (target feature)\n",
    "print(data['Price'].describe())\n",
    "data['Price'].plot.hist()"
   ]
  },
  {
   "cell_type": "code",
   "execution_count": 7,
   "metadata": {},
   "outputs": [
    {
     "data": {
      "image/png": "[encoded data removed]",
      "text/plain": [
       "<Figure size 360x360 with 1 Axes>"
      ]
     },
     "metadata": {
      "needs_background": "light"
     },
     "output_type": "display_data"
    }
   ],
   "source": [
    "# check for outliers\n",
    "sns.catplot(y = 'Price', data = data, kind = 'box')\n",
    "plt.show()"
   ]
  },
  {
   "cell_type": "code",
   "execution_count": 8,
   "metadata": {},
   "outputs": [],
   "source": [
    "# function to remove outliers\n",
    "def remove_outliers(data, columns):\n",
    "    Q1 = data[columns].quantile(0.25)\n",
    "    Q3 = data[columns].quantile(0.75)\n",
    "    IQR = Q3 - Q1\n",
    "    data = data.loc[~((data[columns] < (Q1 - 1.5 * IQR)) | (data[columns] > (Q3 + 1.5 * IQR)))]\n",
    "    return data"
   ]
  },
  {
   "cell_type": "code",
   "execution_count": 9,
   "metadata": {},
   "outputs": [
    {
     "name": "stdout",
     "output_type": "stream",
     "text": [
      "<class 'pandas.core.frame.DataFrame'>\n",
      "RangeIndex: 10683 entries, 0 to 10682\n",
      "Data columns (total 11 columns):\n",
      " #   Column           Non-Null Count  Dtype \n",
      "---  ------           --------------  ----- \n",
      " 0   Airline          10683 non-null  object\n",
      " 1   Date_of_Journey  10683 non-null  object\n",
      " 2   Source           10683 non-null  object\n",
      " 3   Destination      10683 non-null  object\n",
      " 4   Route            10682 non-null  object\n",
      " 5   Dep_Time         10683 non-null  object\n",
      " 6   Arrival_Time     10683 non-null  object\n",
      " 7   Duration         10683 non-null  object\n",
      " 8   Total_Stops      10682 non-null  object\n",
      " 9   Additional_Info  10683 non-null  object\n",
      " 10  Price            10683 non-null  int64 \n",
      "dtypes: int64(1), object(10)\n",
      "memory usage: 918.2+ KB\n",
      "None\n",
      "<class 'pandas.core.frame.DataFrame'>\n",
      "Int64Index: 10589 entries, 0 to 10682\n",
      "Data columns (total 11 columns):\n",
      " #   Column           Non-Null Count  Dtype \n",
      "---  ------           --------------  ----- \n",
      " 0   Airline          10589 non-null  object\n",
      " 1   Date_of_Journey  10589 non-null  object\n",
      " 2   Source           10589 non-null  object\n",
      " 3   Destination      10589 non-null  object\n",
      " 4   Route            10588 non-null  object\n",
      " 5   Dep_Time         10589 non-null  object\n",
      " 6   Arrival_Time     10589 non-null  object\n",
      " 7   Duration         10589 non-null  object\n",
      " 8   Total_Stops      10588 non-null  object\n",
      " 9   Additional_Info  10589 non-null  object\n",
      " 10  Price            10589 non-null  int64 \n",
      "dtypes: int64(1), object(10)\n",
      "memory usage: 992.7+ KB\n",
      "None\n"
     ]
    },
    {
     "data": {
      "image/png": "[encoded data removed]",
      "text/plain": [
       "<Figure size 360x360 with 1 Axes>"
      ]
     },
     "metadata": {
      "needs_background": "light"
     },
     "output_type": "display_data"
    }
   ],
   "source": [
    "# remove outliers and then replot the boxplot\n",
    "newdata = data.copy()\n",
    "print(newdata.info())\n",
    "newdata = remove_outliers(newdata, 'Price')\n",
    "print(newdata.info())\n",
    "sns.catplot(y = 'Price', data = newdata, kind = 'box')\n",
    "plt.show()"
   ]
  },
  {
   "cell_type": "markdown",
   "metadata": {},
   "source": [
    "## Data Cleaning"
   ]
  },
  {
   "cell_type": "code",
   "execution_count": 10,
   "metadata": {},
   "outputs": [
    {
     "data": {
      "text/plain": [
       "Airline            0\n",
       "Date_of_Journey    0\n",
       "Source             0\n",
       "Destination        0\n",
       "Route              1\n",
       "Dep_Time           0\n",
       "Arrival_Time       0\n",
       "Duration           0\n",
       "Total_Stops        1\n",
       "Additional_Info    0\n",
       "Price              0\n",
       "dtype: int64"
      ]
     },
     "execution_count": 10,
     "metadata": {},
     "output_type": "execute_result"
    }
   ],
   "source": [
    "# drop missing value\n",
    "newdata.isnull().sum()"
   ]
  },
  {
   "cell_type": "code",
   "execution_count": 11,
   "metadata": {},
   "outputs": [
    {
     "data": {
      "text/plain": [
       "Airline            0\n",
       "Date_of_Journey    0\n",
       "Source             0\n",
       "Destination        0\n",
       "Route              0\n",
       "Dep_Time           0\n",
       "Arrival_Time       0\n",
       "Duration           0\n",
       "Total_Stops        0\n",
       "Additional_Info    0\n",
       "Price              0\n",
       "dtype: int64"
      ]
     },
     "execution_count": 11,
     "metadata": {},
     "output_type": "execute_result"
    }
   ],
   "source": [
    "newdata.dropna(inplace = True)\n",
    "newdata.isnull().sum()"
   ]
  },
  {
   "cell_type": "code",
   "execution_count": 12,
   "metadata": {},
   "outputs": [
    {
     "name": "stdout",
     "output_type": "stream",
     "text": [
      "<class 'pandas.core.frame.DataFrame'>\n",
      "RangeIndex: 10588 entries, 0 to 10587\n",
      "Data columns (total 11 columns):\n",
      " #   Column           Non-Null Count  Dtype \n",
      "---  ------           --------------  ----- \n",
      " 0   Airline          10588 non-null  object\n",
      " 1   Date_of_Journey  10588 non-null  object\n",
      " 2   Source           10588 non-null  object\n",
      " 3   Destination      10588 non-null  object\n",
      " 4   Route            10588 non-null  object\n",
      " 5   Dep_Time         10588 non-null  object\n",
      " 6   Arrival_Time     10588 non-null  object\n",
      " 7   Duration         10588 non-null  object\n",
      " 8   Total_Stops      10588 non-null  object\n",
      " 9   Additional_Info  10588 non-null  object\n",
      " 10  Price            10588 non-null  int64 \n",
      "dtypes: int64(1), object(10)\n",
      "memory usage: 910.0+ KB\n"
     ]
    }
   ],
   "source": [
    "newdata = newdata.reset_index(drop = True) # by setting drop = True, we ignore the old index\n",
    "newdata.info()"
   ]
  },
  {
   "cell_type": "code",
   "execution_count": 13,
   "metadata": {},
   "outputs": [],
   "source": [
    "# concat both train and test features and isolate the target "
   ]
  },
  {
   "cell_type": "code",
   "execution_count": 14,
   "metadata": {},
   "outputs": [],
   "source": [
    "target = newdata['Price'] # train data index end in 10587\n",
    "newdata = newdata.drop(['Price'], axis = 1)"
   ]
  },
  {
   "cell_type": "code",
   "execution_count": 15,
   "metadata": {},
   "outputs": [],
   "source": [
    "df = pd.concat([newdata, data_test], ignore_index=True, sort=False)"
   ]
  },
  {
   "cell_type": "code",
   "execution_count": 16,
   "metadata": {},
   "outputs": [
    {
     "data": {
      "text/html": [
       "<div>\n",
       "<style scoped>\n",
       "    .dataframe tbody tr th:only-of-type {\n",
       "        vertical-align: middle;\n",
       "    }\n",
       "\n",
       "    .dataframe tbody tr th {\n",
       "        vertical-align: top;\n",
       "    }\n",
       "\n",
       "    .dataframe thead th {\n",
       "        text-align: right;\n",
       "    }\n",
       "</style>\n",
       "<table border=\"1\" class=\"dataframe\">\n",
       "  <thead>\n",
       "    <tr style=\"text-align: right;\">\n",
       "      <th></th>\n",
       "      <th>Airline</th>\n",
       "      <th>Date_of_Journey</th>\n",
       "      <th>Source</th>\n",
       "      <th>Destination</th>\n",
       "      <th>Route</th>\n",
       "      <th>Dep_Time</th>\n",
       "      <th>Arrival_Time</th>\n",
       "      <th>Duration</th>\n",
       "      <th>Total_Stops</th>\n",
       "      <th>Additional_Info</th>\n",
       "    </tr>\n",
       "  </thead>\n",
       "  <tbody>\n",
       "    <tr>\n",
       "      <th>10583</th>\n",
       "      <td>Air Asia</td>\n",
       "      <td>9/04/2019</td>\n",
       "      <td>Kolkata</td>\n",
       "      <td>Banglore</td>\n",
       "      <td>CCU → BLR</td>\n",
       "      <td>19:55</td>\n",
       "      <td>22:25</td>\n",
       "      <td>2h 30m</td>\n",
       "      <td>non-stop</td>\n",
       "      <td>No info</td>\n",
       "    </tr>\n",
       "    <tr>\n",
       "      <th>10584</th>\n",
       "      <td>Air India</td>\n",
       "      <td>27/04/2019</td>\n",
       "      <td>Kolkata</td>\n",
       "      <td>Banglore</td>\n",
       "      <td>CCU → BLR</td>\n",
       "      <td>20:45</td>\n",
       "      <td>23:20</td>\n",
       "      <td>2h 35m</td>\n",
       "      <td>non-stop</td>\n",
       "      <td>No info</td>\n",
       "    </tr>\n",
       "    <tr>\n",
       "      <th>10585</th>\n",
       "      <td>Jet Airways</td>\n",
       "      <td>27/04/2019</td>\n",
       "      <td>Banglore</td>\n",
       "      <td>Delhi</td>\n",
       "      <td>BLR → DEL</td>\n",
       "      <td>08:20</td>\n",
       "      <td>11:20</td>\n",
       "      <td>3h</td>\n",
       "      <td>non-stop</td>\n",
       "      <td>No info</td>\n",
       "    </tr>\n",
       "    <tr>\n",
       "      <th>10586</th>\n",
       "      <td>Vistara</td>\n",
       "      <td>01/03/2019</td>\n",
       "      <td>Banglore</td>\n",
       "      <td>New Delhi</td>\n",
       "      <td>BLR → DEL</td>\n",
       "      <td>11:30</td>\n",
       "      <td>14:10</td>\n",
       "      <td>2h 40m</td>\n",
       "      <td>non-stop</td>\n",
       "      <td>No info</td>\n",
       "    </tr>\n",
       "    <tr>\n",
       "      <th>10587</th>\n",
       "      <td>Air India</td>\n",
       "      <td>9/05/2019</td>\n",
       "      <td>Delhi</td>\n",
       "      <td>Cochin</td>\n",
       "      <td>DEL → GOI → BOM → COK</td>\n",
       "      <td>10:55</td>\n",
       "      <td>19:15</td>\n",
       "      <td>8h 20m</td>\n",
       "      <td>2 stops</td>\n",
       "      <td>No info</td>\n",
       "    </tr>\n",
       "  </tbody>\n",
       "</table>\n",
       "</div>"
      ],
      "text/plain": [
       "           Airline Date_of_Journey    Source Destination  \\\n",
       "10583     Air Asia       9/04/2019   Kolkata    Banglore   \n",
       "10584    Air India      27/04/2019   Kolkata    Banglore   \n",
       "10585  Jet Airways      27/04/2019  Banglore       Delhi   \n",
       "10586      Vistara      01/03/2019  Banglore   New Delhi   \n",
       "10587    Air India       9/05/2019     Delhi      Cochin   \n",
       "\n",
       "                       Route Dep_Time Arrival_Time Duration Total_Stops  \\\n",
       "10583              CCU → BLR    19:55        22:25   2h 30m    non-stop   \n",
       "10584              CCU → BLR    20:45        23:20   2h 35m    non-stop   \n",
       "10585              BLR → DEL    08:20        11:20       3h    non-stop   \n",
       "10586              BLR → DEL    11:30        14:10   2h 40m    non-stop   \n",
       "10587  DEL → GOI → BOM → COK    10:55        19:15   8h 20m     2 stops   \n",
       "\n",
       "      Additional_Info  \n",
       "10583         No info  \n",
       "10584         No info  \n",
       "10585         No info  \n",
       "10586         No info  \n",
       "10587         No info  "
      ]
     },
     "execution_count": 16,
     "metadata": {},
     "output_type": "execute_result"
    }
   ],
   "source": [
    "# to make sure the index is still in order, ps index > 10587 are from test table\n",
    "df.iloc[10583:10588][:]"
   ]
  },
  {
   "cell_type": "code",
   "execution_count": 17,
   "metadata": {},
   "outputs": [
    {
     "data": {
      "text/html": [
       "<div>\n",
       "<style scoped>\n",
       "    .dataframe tbody tr th:only-of-type {\n",
       "        vertical-align: middle;\n",
       "    }\n",
       "\n",
       "    .dataframe tbody tr th {\n",
       "        vertical-align: top;\n",
       "    }\n",
       "\n",
       "    .dataframe thead th {\n",
       "        text-align: right;\n",
       "    }\n",
       "</style>\n",
       "<table border=\"1\" class=\"dataframe\">\n",
       "  <thead>\n",
       "    <tr style=\"text-align: right;\">\n",
       "      <th></th>\n",
       "      <th>Airline</th>\n",
       "      <th>Date_of_Journey</th>\n",
       "      <th>Source</th>\n",
       "      <th>Destination</th>\n",
       "      <th>Route</th>\n",
       "      <th>Dep_Time</th>\n",
       "      <th>Arrival_Time</th>\n",
       "      <th>Duration</th>\n",
       "      <th>Total_Stops</th>\n",
       "      <th>Additional_Info</th>\n",
       "    </tr>\n",
       "  </thead>\n",
       "  <tbody>\n",
       "    <tr>\n",
       "      <th>10583</th>\n",
       "      <td>Air Asia</td>\n",
       "      <td>9/04/2019</td>\n",
       "      <td>Kolkata</td>\n",
       "      <td>Banglore</td>\n",
       "      <td>CCU → BLR</td>\n",
       "      <td>19:55</td>\n",
       "      <td>22:25</td>\n",
       "      <td>2h 30m</td>\n",
       "      <td>non-stop</td>\n",
       "      <td>No info</td>\n",
       "    </tr>\n",
       "    <tr>\n",
       "      <th>10584</th>\n",
       "      <td>Air India</td>\n",
       "      <td>27/04/2019</td>\n",
       "      <td>Kolkata</td>\n",
       "      <td>Banglore</td>\n",
       "      <td>CCU → BLR</td>\n",
       "      <td>20:45</td>\n",
       "      <td>23:20</td>\n",
       "      <td>2h 35m</td>\n",
       "      <td>non-stop</td>\n",
       "      <td>No info</td>\n",
       "    </tr>\n",
       "    <tr>\n",
       "      <th>10585</th>\n",
       "      <td>Jet Airways</td>\n",
       "      <td>27/04/2019</td>\n",
       "      <td>Banglore</td>\n",
       "      <td>Delhi</td>\n",
       "      <td>BLR → DEL</td>\n",
       "      <td>08:20</td>\n",
       "      <td>11:20</td>\n",
       "      <td>3h</td>\n",
       "      <td>non-stop</td>\n",
       "      <td>No info</td>\n",
       "    </tr>\n",
       "    <tr>\n",
       "      <th>10586</th>\n",
       "      <td>Vistara</td>\n",
       "      <td>01/03/2019</td>\n",
       "      <td>Banglore</td>\n",
       "      <td>New Delhi</td>\n",
       "      <td>BLR → DEL</td>\n",
       "      <td>11:30</td>\n",
       "      <td>14:10</td>\n",
       "      <td>2h 40m</td>\n",
       "      <td>non-stop</td>\n",
       "      <td>No info</td>\n",
       "    </tr>\n",
       "    <tr>\n",
       "      <th>10587</th>\n",
       "      <td>Air India</td>\n",
       "      <td>9/05/2019</td>\n",
       "      <td>Delhi</td>\n",
       "      <td>Cochin</td>\n",
       "      <td>DEL → GOI → BOM → COK</td>\n",
       "      <td>10:55</td>\n",
       "      <td>19:15</td>\n",
       "      <td>8h 20m</td>\n",
       "      <td>2 stops</td>\n",
       "      <td>No info</td>\n",
       "    </tr>\n",
       "  </tbody>\n",
       "</table>\n",
       "</div>"
      ],
      "text/plain": [
       "           Airline Date_of_Journey    Source Destination  \\\n",
       "10583     Air Asia       9/04/2019   Kolkata    Banglore   \n",
       "10584    Air India      27/04/2019   Kolkata    Banglore   \n",
       "10585  Jet Airways      27/04/2019  Banglore       Delhi   \n",
       "10586      Vistara      01/03/2019  Banglore   New Delhi   \n",
       "10587    Air India       9/05/2019     Delhi      Cochin   \n",
       "\n",
       "                       Route Dep_Time Arrival_Time Duration Total_Stops  \\\n",
       "10583              CCU → BLR    19:55        22:25   2h 30m    non-stop   \n",
       "10584              CCU → BLR    20:45        23:20   2h 35m    non-stop   \n",
       "10585              BLR → DEL    08:20        11:20       3h    non-stop   \n",
       "10586              BLR → DEL    11:30        14:10   2h 40m    non-stop   \n",
       "10587  DEL → GOI → BOM → COK    10:55        19:15   8h 20m     2 stops   \n",
       "\n",
       "      Additional_Info  \n",
       "10583         No info  \n",
       "10584         No info  \n",
       "10585         No info  \n",
       "10586         No info  \n",
       "10587         No info  "
      ]
     },
     "execution_count": 17,
     "metadata": {},
     "output_type": "execute_result"
    }
   ],
   "source": [
    "newdata.tail()"
   ]
  },
  {
   "cell_type": "code",
   "execution_count": 18,
   "metadata": {},
   "outputs": [
    {
     "name": "stdout",
     "output_type": "stream",
     "text": [
      "<class 'pandas.core.frame.DataFrame'>\n",
      "RangeIndex: 13259 entries, 0 to 13258\n",
      "Data columns (total 10 columns):\n",
      " #   Column           Non-Null Count  Dtype         \n",
      "---  ------           --------------  -----         \n",
      " 0   Airline          13259 non-null  object        \n",
      " 1   Date_of_Journey  13259 non-null  datetime64[ns]\n",
      " 2   Source           13259 non-null  object        \n",
      " 3   Destination      13259 non-null  object        \n",
      " 4   Route            13259 non-null  object        \n",
      " 5   Dep_Time         13259 non-null  datetime64[ns]\n",
      " 6   Arrival_Time     13259 non-null  datetime64[ns]\n",
      " 7   Duration         13259 non-null  object        \n",
      " 8   Total_Stops      13259 non-null  object        \n",
      " 9   Additional_Info  13259 non-null  object        \n",
      "dtypes: datetime64[ns](3), object(7)\n",
      "memory usage: 1.0+ MB\n"
     ]
    }
   ],
   "source": [
    "# convert datetime \n",
    "datetime_col = ['Date_of_Journey', 'Dep_Time', 'Arrival_Time']\n",
    "for i in datetime_col:\n",
    "    df[i] = pd.to_datetime(df[i])\n",
    "    \n",
    "df.info()"
   ]
  },
  {
   "cell_type": "code",
   "execution_count": 19,
   "metadata": {},
   "outputs": [],
   "source": [
    "# divide Date_of_Journey into two columns: date, month\n",
    "df['journey_date'] = df['Date_of_Journey'].dt.day\n",
    "df['journey_month'] = df['Date_of_Journey'].dt.month\n",
    "\n",
    "# divide Dep_Time into two columns: hours, minutes\n",
    "df['Dep_hours'] = df['Dep_Time'].dt.hour\n",
    "df['Dep_minutes'] = df['Dep_Time'].dt.minute\n",
    "\n",
    "# divide Arrival_time into two columns: hours, minutes\n",
    "df['Arrival_hours'] = df['Arrival_Time'].dt.hour\n",
    "df['Arrival_minutes'] = df['Arrival_Time'].dt.minute"
   ]
  },
  {
   "cell_type": "code",
   "execution_count": 20,
   "metadata": {},
   "outputs": [
    {
     "name": "stdout",
     "output_type": "stream",
     "text": [
      "<class 'pandas.core.frame.DataFrame'>\n",
      "RangeIndex: 13259 entries, 0 to 13258\n",
      "Data columns (total 13 columns):\n",
      " #   Column           Non-Null Count  Dtype \n",
      "---  ------           --------------  ----- \n",
      " 0   Airline          13259 non-null  object\n",
      " 1   Source           13259 non-null  object\n",
      " 2   Destination      13259 non-null  object\n",
      " 3   Route            13259 non-null  object\n",
      " 4   Duration         13259 non-null  object\n",
      " 5   Total_Stops      13259 non-null  object\n",
      " 6   Additional_Info  13259 non-null  object\n",
      " 7   journey_date     13259 non-null  int64 \n",
      " 8   journey_month    13259 non-null  int64 \n",
      " 9   Dep_hours        13259 non-null  int64 \n",
      " 10  Dep_minutes      13259 non-null  int64 \n",
      " 11  Arrival_hours    13259 non-null  int64 \n",
      " 12  Arrival_minutes  13259 non-null  int64 \n",
      "dtypes: int64(6), object(7)\n",
      "memory usage: 1.3+ MB\n"
     ]
    }
   ],
   "source": [
    "df.drop(['Date_of_Journey', 'Dep_Time', 'Arrival_Time'], axis = 1, inplace = True)\n",
    "df.info()"
   ]
  },
  {
   "cell_type": "markdown",
   "metadata": {},
   "source": [
    "#### working on Duration columns"
   ]
  },
  {
   "cell_type": "code",
   "execution_count": 21,
   "metadata": {},
   "outputs": [],
   "source": [
    "# working on Duration columns\n",
    "# formating the duration with both hours and mins\n",
    "duration = df['Duration'].values.tolist()\n",
    "for i in range(len(duration)):\n",
    "    if len(duration[i].split(' ')) == 2:\n",
    "        pass\n",
    "    else:\n",
    "        if 'h' in duration[i]:\n",
    "            duration[i] = duration[i] + ' 0m' \n",
    "        else:\n",
    "            duration[i] = '0h ' + duration[i]\n"
   ]
  },
  {
   "cell_type": "code",
   "execution_count": 22,
   "metadata": {},
   "outputs": [
    {
     "data": {
      "text/html": [
       "<div>\n",
       "<style scoped>\n",
       "    .dataframe tbody tr th:only-of-type {\n",
       "        vertical-align: middle;\n",
       "    }\n",
       "\n",
       "    .dataframe tbody tr th {\n",
       "        vertical-align: top;\n",
       "    }\n",
       "\n",
       "    .dataframe thead th {\n",
       "        text-align: right;\n",
       "    }\n",
       "</style>\n",
       "<table border=\"1\" class=\"dataframe\">\n",
       "  <thead>\n",
       "    <tr style=\"text-align: right;\">\n",
       "      <th></th>\n",
       "      <th>Airline</th>\n",
       "      <th>Source</th>\n",
       "      <th>Destination</th>\n",
       "      <th>Route</th>\n",
       "      <th>Duration</th>\n",
       "      <th>Total_Stops</th>\n",
       "      <th>Additional_Info</th>\n",
       "      <th>journey_date</th>\n",
       "      <th>journey_month</th>\n",
       "      <th>Dep_hours</th>\n",
       "      <th>Dep_minutes</th>\n",
       "      <th>Arrival_hours</th>\n",
       "      <th>Arrival_minutes</th>\n",
       "    </tr>\n",
       "  </thead>\n",
       "  <tbody>\n",
       "    <tr>\n",
       "      <th>13254</th>\n",
       "      <td>Air India</td>\n",
       "      <td>Kolkata</td>\n",
       "      <td>Banglore</td>\n",
       "      <td>CCU → DEL → BLR</td>\n",
       "      <td>23h 55m</td>\n",
       "      <td>1 stop</td>\n",
       "      <td>No info</td>\n",
       "      <td>6</td>\n",
       "      <td>6</td>\n",
       "      <td>20</td>\n",
       "      <td>30</td>\n",
       "      <td>20</td>\n",
       "      <td>25</td>\n",
       "    </tr>\n",
       "    <tr>\n",
       "      <th>13255</th>\n",
       "      <td>IndiGo</td>\n",
       "      <td>Kolkata</td>\n",
       "      <td>Banglore</td>\n",
       "      <td>CCU → BLR</td>\n",
       "      <td>2h 35m</td>\n",
       "      <td>non-stop</td>\n",
       "      <td>No info</td>\n",
       "      <td>27</td>\n",
       "      <td>3</td>\n",
       "      <td>14</td>\n",
       "      <td>20</td>\n",
       "      <td>16</td>\n",
       "      <td>55</td>\n",
       "    </tr>\n",
       "    <tr>\n",
       "      <th>13256</th>\n",
       "      <td>Jet Airways</td>\n",
       "      <td>Delhi</td>\n",
       "      <td>Cochin</td>\n",
       "      <td>DEL → BOM → COK</td>\n",
       "      <td>6h 35m</td>\n",
       "      <td>1 stop</td>\n",
       "      <td>No info</td>\n",
       "      <td>3</td>\n",
       "      <td>6</td>\n",
       "      <td>21</td>\n",
       "      <td>50</td>\n",
       "      <td>4</td>\n",
       "      <td>25</td>\n",
       "    </tr>\n",
       "    <tr>\n",
       "      <th>13257</th>\n",
       "      <td>Air India</td>\n",
       "      <td>Delhi</td>\n",
       "      <td>Cochin</td>\n",
       "      <td>DEL → BOM → COK</td>\n",
       "      <td>15h 15m</td>\n",
       "      <td>1 stop</td>\n",
       "      <td>No info</td>\n",
       "      <td>3</td>\n",
       "      <td>6</td>\n",
       "      <td>4</td>\n",
       "      <td>0</td>\n",
       "      <td>19</td>\n",
       "      <td>15</td>\n",
       "    </tr>\n",
       "    <tr>\n",
       "      <th>13258</th>\n",
       "      <td>Multiple carriers</td>\n",
       "      <td>Delhi</td>\n",
       "      <td>Cochin</td>\n",
       "      <td>DEL → BOM → COK</td>\n",
       "      <td>14h 20m</td>\n",
       "      <td>1 stop</td>\n",
       "      <td>No info</td>\n",
       "      <td>15</td>\n",
       "      <td>6</td>\n",
       "      <td>4</td>\n",
       "      <td>55</td>\n",
       "      <td>19</td>\n",
       "      <td>15</td>\n",
       "    </tr>\n",
       "  </tbody>\n",
       "</table>\n",
       "</div>"
      ],
      "text/plain": [
       "                 Airline   Source Destination            Route Duration  \\\n",
       "13254          Air India  Kolkata    Banglore  CCU → DEL → BLR  23h 55m   \n",
       "13255             IndiGo  Kolkata    Banglore        CCU → BLR   2h 35m   \n",
       "13256        Jet Airways    Delhi      Cochin  DEL → BOM → COK   6h 35m   \n",
       "13257          Air India    Delhi      Cochin  DEL → BOM → COK  15h 15m   \n",
       "13258  Multiple carriers    Delhi      Cochin  DEL → BOM → COK  14h 20m   \n",
       "\n",
       "      Total_Stops Additional_Info  journey_date  journey_month  Dep_hours  \\\n",
       "13254      1 stop         No info             6              6         20   \n",
       "13255    non-stop         No info            27              3         14   \n",
       "13256      1 stop         No info             3              6         21   \n",
       "13257      1 stop         No info             3              6          4   \n",
       "13258      1 stop         No info            15              6          4   \n",
       "\n",
       "       Dep_minutes  Arrival_hours  Arrival_minutes  \n",
       "13254           30             20               25  \n",
       "13255           20             16               55  \n",
       "13256           50              4               25  \n",
       "13257            0             19               15  \n",
       "13258           55             19               15  "
      ]
     },
     "execution_count": 22,
     "metadata": {},
     "output_type": "execute_result"
    }
   ],
   "source": [
    "df['Duration'] = duration\n",
    "df.tail()"
   ]
  },
  {
   "cell_type": "code",
   "execution_count": 23,
   "metadata": {},
   "outputs": [],
   "source": [
    "# extract the number from duration and store to new columns\n",
    "h = []\n",
    "m = []\n",
    "for item in duration:\n",
    "    h.append(item.split(' ')[0][:-1])\n",
    "    m.append(item.split(' ')[1][:-1])\n"
   ]
  },
  {
   "cell_type": "code",
   "execution_count": 24,
   "metadata": {},
   "outputs": [
    {
     "name": "stdout",
     "output_type": "stream",
     "text": [
      "<class 'pandas.core.frame.DataFrame'>\n",
      "RangeIndex: 13259 entries, 0 to 13258\n",
      "Data columns (total 14 columns):\n",
      " #   Column           Non-Null Count  Dtype \n",
      "---  ------           --------------  ----- \n",
      " 0   Airline          13259 non-null  object\n",
      " 1   Source           13259 non-null  object\n",
      " 2   Destination      13259 non-null  object\n",
      " 3   Route            13259 non-null  object\n",
      " 4   Total_Stops      13259 non-null  object\n",
      " 5   Additional_Info  13259 non-null  object\n",
      " 6   journey_date     13259 non-null  int64 \n",
      " 7   journey_month    13259 non-null  int64 \n",
      " 8   Dep_hours        13259 non-null  int64 \n",
      " 9   Dep_minutes      13259 non-null  int64 \n",
      " 10  Arrival_hours    13259 non-null  int64 \n",
      " 11  Arrival_minutes  13259 non-null  int64 \n",
      " 12  duration_hours   13259 non-null  object\n",
      " 13  duration_mins    13259 non-null  object\n",
      "dtypes: int64(6), object(8)\n",
      "memory usage: 1.4+ MB\n"
     ]
    }
   ],
   "source": [
    "df['duration_hours'] = h\n",
    "df['duration_mins'] = m\n",
    "df.drop(['Duration'], axis = 1, inplace = True)\n",
    "df.info()"
   ]
  },
  {
   "cell_type": "code",
   "execution_count": 25,
   "metadata": {},
   "outputs": [
    {
     "name": "stdout",
     "output_type": "stream",
     "text": [
      "<class 'pandas.core.frame.DataFrame'>\n",
      "RangeIndex: 13259 entries, 0 to 13258\n",
      "Data columns (total 14 columns):\n",
      " #   Column           Non-Null Count  Dtype \n",
      "---  ------           --------------  ----- \n",
      " 0   Airline          13259 non-null  object\n",
      " 1   Source           13259 non-null  object\n",
      " 2   Destination      13259 non-null  object\n",
      " 3   Route            13259 non-null  object\n",
      " 4   Total_Stops      13259 non-null  object\n",
      " 5   Additional_Info  13259 non-null  object\n",
      " 6   journey_date     13259 non-null  int64 \n",
      " 7   journey_month    13259 non-null  int64 \n",
      " 8   Dep_hours        13259 non-null  int64 \n",
      " 9   Dep_minutes      13259 non-null  int64 \n",
      " 10  Arrival_hours    13259 non-null  int64 \n",
      " 11  Arrival_minutes  13259 non-null  int64 \n",
      " 12  duration_hours   13259 non-null  int64 \n",
      " 13  duration_mins    13259 non-null  int64 \n",
      "dtypes: int64(8), object(6)\n",
      "memory usage: 1.4+ MB\n"
     ]
    }
   ],
   "source": [
    "df['duration_hours'] = df['duration_hours'].astype('int64')\n",
    "df['duration_mins'] = df['duration_mins'].astype('int64')\n",
    "df.info()"
   ]
  },
  {
   "cell_type": "markdown",
   "metadata": {},
   "source": [
    "#### working on categorical values"
   ]
  },
  {
   "cell_type": "code",
   "execution_count": 26,
   "metadata": {},
   "outputs": [],
   "source": [
    "# for categorical data without order, we can use get_dummies()\n",
    "# for categorical data with order, we can use label-Encoder"
   ]
  },
  {
   "cell_type": "code",
   "execution_count": 27,
   "metadata": {},
   "outputs": [],
   "source": [
    "# Airline column\n",
    "Airline = pd.get_dummies(df['Airline'], drop_first = True, prefix = 'airline_')\n",
    "# Source column\n",
    "Source = pd.get_dummies(df['Source'], drop_first = True, prefix = 'source_')\n",
    "# Destination column\n",
    "Destination = pd.get_dummies(df['Destination'], drop_first = True, prefix=\"destination_\")"
   ]
  },
  {
   "cell_type": "code",
   "execution_count": 28,
   "metadata": {},
   "outputs": [],
   "source": [
    "# total stops column\n",
    "df['Total_Stops'].value_counts()\n",
    "mydict = {'non-stop':0, '1 stop': 1, '2 stops': 2, '3 stops': 3, '4 stops': 4}\n",
    "df['Total_Stops'] = df['Total_Stops'].map(mydict)"
   ]
  },
  {
   "cell_type": "code",
   "execution_count": 29,
   "metadata": {},
   "outputs": [],
   "source": [
    "# Additional_Info column\n",
    "df['Additional_Info'].value_counts() # since most of the data from Additional info does not provide any useful information, we can drop it\n",
    "df.drop(['Additional_Info'], axis = 1, inplace = True)"
   ]
  },
  {
   "cell_type": "code",
   "execution_count": 30,
   "metadata": {},
   "outputs": [
    {
     "data": {
      "text/plain": [
       "Airline                0\n",
       "Source                 0\n",
       "Destination            0\n",
       "Route                  0\n",
       "Total_Stops            0\n",
       "journey_date           0\n",
       "journey_month          0\n",
       "Dep_hours              0\n",
       "Dep_minutes            0\n",
       "Arrival_hours          0\n",
       "Arrival_minutes        0\n",
       "duration_hours         0\n",
       "duration_mins          0\n",
       "Route1                 0\n",
       "Route2                 0\n",
       "Route3              4337\n",
       "Route4             11318\n",
       "Route5             13201\n",
       "dtype: int64"
      ]
     },
     "execution_count": 30,
     "metadata": {},
     "output_type": "execute_result"
    }
   ],
   "source": [
    "# Route column\n",
    "data1 = df.copy()\n",
    "data1['Route1'] = data1['Route'].str.split('→').str[0]\n",
    "data1['Route2'] = data1['Route'].str.split('→').str[1]\n",
    "data1['Route3'] = data1['Route'].str.split('→').str[2]\n",
    "data1['Route4'] = data1['Route'].str.split('→').str[3]\n",
    "data1['Route5'] = data1['Route'].str.split('→').str[4]\n",
    "\n",
    "data1.isnull().sum() # Route3 - 4 contains missing values"
   ]
  },
  {
   "cell_type": "code",
   "execution_count": 31,
   "metadata": {},
   "outputs": [],
   "source": [
    "Route_col = ['Route1', 'Route2', 'Route3', 'Route4', 'Route5']\n",
    "for val in Route_col:\n",
    "    data1[val].fillna('None', inplace = True)"
   ]
  },
  {
   "cell_type": "code",
   "execution_count": 32,
   "metadata": {},
   "outputs": [],
   "source": [
    "# using label encoder \n",
    "from sklearn.preprocessing import LabelEncoder\n",
    "LE = LabelEncoder()\n",
    "for val in Route_col:\n",
    "    data1[val] = LE.fit_transform(data1[val])"
   ]
  },
  {
   "cell_type": "code",
   "execution_count": 33,
   "metadata": {},
   "outputs": [
    {
     "data": {
      "text/plain": [
       "Index(['Airline', 'Source', 'Destination', 'Route', 'Total_Stops',\n",
       "       'journey_date', 'journey_month', 'Dep_hours', 'Dep_minutes',\n",
       "       'Arrival_hours', 'Arrival_minutes', 'duration_hours', 'duration_mins',\n",
       "       'Route1', 'Route2', 'Route3', 'Route4', 'Route5'],\n",
       "      dtype='object')"
      ]
     },
     "execution_count": 33,
     "metadata": {},
     "output_type": "execute_result"
    }
   ],
   "source": [
    "data1.columns"
   ]
  },
  {
   "cell_type": "code",
   "execution_count": 34,
   "metadata": {},
   "outputs": [
    {
     "data": {
      "text/html": [
       "<div>\n",
       "<style scoped>\n",
       "    .dataframe tbody tr th:only-of-type {\n",
       "        vertical-align: middle;\n",
       "    }\n",
       "\n",
       "    .dataframe tbody tr th {\n",
       "        vertical-align: top;\n",
       "    }\n",
       "\n",
       "    .dataframe thead th {\n",
       "        text-align: right;\n",
       "    }\n",
       "</style>\n",
       "<table border=\"1\" class=\"dataframe\">\n",
       "  <thead>\n",
       "    <tr style=\"text-align: right;\">\n",
       "      <th></th>\n",
       "      <th>Airline</th>\n",
       "      <th>Source</th>\n",
       "      <th>Destination</th>\n",
       "      <th>Route</th>\n",
       "      <th>Total_Stops</th>\n",
       "      <th>journey_date</th>\n",
       "      <th>journey_month</th>\n",
       "      <th>Dep_hours</th>\n",
       "      <th>Dep_minutes</th>\n",
       "      <th>Arrival_hours</th>\n",
       "      <th>Arrival_minutes</th>\n",
       "      <th>duration_hours</th>\n",
       "      <th>duration_mins</th>\n",
       "      <th>Route1</th>\n",
       "      <th>Route2</th>\n",
       "      <th>Route3</th>\n",
       "      <th>Route4</th>\n",
       "      <th>Route5</th>\n",
       "    </tr>\n",
       "  </thead>\n",
       "  <tbody>\n",
       "    <tr>\n",
       "      <th>0</th>\n",
       "      <td>IndiGo</td>\n",
       "      <td>Banglore</td>\n",
       "      <td>New Delhi</td>\n",
       "      <td>BLR → DEL</td>\n",
       "      <td>0</td>\n",
       "      <td>24</td>\n",
       "      <td>3</td>\n",
       "      <td>22</td>\n",
       "      <td>20</td>\n",
       "      <td>1</td>\n",
       "      <td>10</td>\n",
       "      <td>2</td>\n",
       "      <td>50</td>\n",
       "      <td>0</td>\n",
       "      <td>13</td>\n",
       "      <td>30</td>\n",
       "      <td>13</td>\n",
       "      <td>5</td>\n",
       "    </tr>\n",
       "    <tr>\n",
       "      <th>1</th>\n",
       "      <td>Air India</td>\n",
       "      <td>Kolkata</td>\n",
       "      <td>Banglore</td>\n",
       "      <td>CCU → IXR → BBI → BLR</td>\n",
       "      <td>2</td>\n",
       "      <td>5</td>\n",
       "      <td>1</td>\n",
       "      <td>5</td>\n",
       "      <td>50</td>\n",
       "      <td>13</td>\n",
       "      <td>15</td>\n",
       "      <td>7</td>\n",
       "      <td>25</td>\n",
       "      <td>2</td>\n",
       "      <td>25</td>\n",
       "      <td>1</td>\n",
       "      <td>3</td>\n",
       "      <td>5</td>\n",
       "    </tr>\n",
       "    <tr>\n",
       "      <th>2</th>\n",
       "      <td>Jet Airways</td>\n",
       "      <td>Delhi</td>\n",
       "      <td>Cochin</td>\n",
       "      <td>DEL → LKO → BOM → COK</td>\n",
       "      <td>2</td>\n",
       "      <td>6</td>\n",
       "      <td>9</td>\n",
       "      <td>9</td>\n",
       "      <td>25</td>\n",
       "      <td>4</td>\n",
       "      <td>25</td>\n",
       "      <td>19</td>\n",
       "      <td>0</td>\n",
       "      <td>3</td>\n",
       "      <td>32</td>\n",
       "      <td>4</td>\n",
       "      <td>5</td>\n",
       "      <td>5</td>\n",
       "    </tr>\n",
       "    <tr>\n",
       "      <th>3</th>\n",
       "      <td>IndiGo</td>\n",
       "      <td>Kolkata</td>\n",
       "      <td>Banglore</td>\n",
       "      <td>CCU → NAG → BLR</td>\n",
       "      <td>1</td>\n",
       "      <td>5</td>\n",
       "      <td>12</td>\n",
       "      <td>18</td>\n",
       "      <td>5</td>\n",
       "      <td>23</td>\n",
       "      <td>30</td>\n",
       "      <td>5</td>\n",
       "      <td>25</td>\n",
       "      <td>2</td>\n",
       "      <td>34</td>\n",
       "      <td>3</td>\n",
       "      <td>13</td>\n",
       "      <td>5</td>\n",
       "    </tr>\n",
       "    <tr>\n",
       "      <th>4</th>\n",
       "      <td>IndiGo</td>\n",
       "      <td>Banglore</td>\n",
       "      <td>New Delhi</td>\n",
       "      <td>BLR → NAG → DEL</td>\n",
       "      <td>1</td>\n",
       "      <td>3</td>\n",
       "      <td>1</td>\n",
       "      <td>16</td>\n",
       "      <td>50</td>\n",
       "      <td>21</td>\n",
       "      <td>35</td>\n",
       "      <td>4</td>\n",
       "      <td>45</td>\n",
       "      <td>0</td>\n",
       "      <td>34</td>\n",
       "      <td>8</td>\n",
       "      <td>13</td>\n",
       "      <td>5</td>\n",
       "    </tr>\n",
       "  </tbody>\n",
       "</table>\n",
       "</div>"
      ],
      "text/plain": [
       "       Airline    Source Destination                  Route  Total_Stops  \\\n",
       "0       IndiGo  Banglore   New Delhi              BLR → DEL            0   \n",
       "1    Air India   Kolkata    Banglore  CCU → IXR → BBI → BLR            2   \n",
       "2  Jet Airways     Delhi      Cochin  DEL → LKO → BOM → COK            2   \n",
       "3       IndiGo   Kolkata    Banglore        CCU → NAG → BLR            1   \n",
       "4       IndiGo  Banglore   New Delhi        BLR → NAG → DEL            1   \n",
       "\n",
       "   journey_date  journey_month  Dep_hours  Dep_minutes  Arrival_hours  \\\n",
       "0            24              3         22           20              1   \n",
       "1             5              1          5           50             13   \n",
       "2             6              9          9           25              4   \n",
       "3             5             12         18            5             23   \n",
       "4             3              1         16           50             21   \n",
       "\n",
       "   Arrival_minutes  duration_hours  duration_mins  Route1  Route2  Route3  \\\n",
       "0               10               2             50       0      13      30   \n",
       "1               15               7             25       2      25       1   \n",
       "2               25              19              0       3      32       4   \n",
       "3               30               5             25       2      34       3   \n",
       "4               35               4             45       0      34       8   \n",
       "\n",
       "   Route4  Route5  \n",
       "0      13       5  \n",
       "1       3       5  \n",
       "2       5       5  \n",
       "3      13       5  \n",
       "4      13       5  "
      ]
     },
     "execution_count": 34,
     "metadata": {},
     "output_type": "execute_result"
    }
   ],
   "source": [
    "data1.head()"
   ]
  },
  {
   "cell_type": "code",
   "execution_count": 35,
   "metadata": {},
   "outputs": [
    {
     "name": "stdout",
     "output_type": "stream",
     "text": [
      "<class 'pandas.core.frame.DataFrame'>\n",
      "RangeIndex: 13259 entries, 0 to 13258\n",
      "Data columns (total 34 columns):\n",
      " #   Column                                      Non-Null Count  Dtype\n",
      "---  ------                                      --------------  -----\n",
      " 0   Total_Stops                                 13259 non-null  int64\n",
      " 1   journey_date                                13259 non-null  int64\n",
      " 2   journey_month                               13259 non-null  int64\n",
      " 3   Dep_hours                                   13259 non-null  int64\n",
      " 4   Dep_minutes                                 13259 non-null  int64\n",
      " 5   Arrival_hours                               13259 non-null  int64\n",
      " 6   Arrival_minutes                             13259 non-null  int64\n",
      " 7   duration_hours                              13259 non-null  int64\n",
      " 8   duration_mins                               13259 non-null  int64\n",
      " 9   Route1                                      13259 non-null  int64\n",
      " 10  Route2                                      13259 non-null  int64\n",
      " 11  Route3                                      13259 non-null  int64\n",
      " 12  Route4                                      13259 non-null  int64\n",
      " 13  Route5                                      13259 non-null  int64\n",
      " 14  airline__Air India                          13259 non-null  uint8\n",
      " 15  airline__GoAir                              13259 non-null  uint8\n",
      " 16  airline__IndiGo                             13259 non-null  uint8\n",
      " 17  airline__Jet Airways                        13259 non-null  uint8\n",
      " 18  airline__Jet Airways Business               13259 non-null  uint8\n",
      " 19  airline__Multiple carriers                  13259 non-null  uint8\n",
      " 20  airline__Multiple carriers Premium economy  13259 non-null  uint8\n",
      " 21  airline__SpiceJet                           13259 non-null  uint8\n",
      " 22  airline__Trujet                             13259 non-null  uint8\n",
      " 23  airline__Vistara                            13259 non-null  uint8\n",
      " 24  airline__Vistara Premium economy            13259 non-null  uint8\n",
      " 25  source__Chennai                             13259 non-null  uint8\n",
      " 26  source__Delhi                               13259 non-null  uint8\n",
      " 27  source__Kolkata                             13259 non-null  uint8\n",
      " 28  source__Mumbai                              13259 non-null  uint8\n",
      " 29  destination__Cochin                         13259 non-null  uint8\n",
      " 30  destination__Delhi                          13259 non-null  uint8\n",
      " 31  destination__Hyderabad                      13259 non-null  uint8\n",
      " 32  destination__Kolkata                        13259 non-null  uint8\n",
      " 33  destination__New Delhi                      13259 non-null  uint8\n",
      "dtypes: int64(14), uint8(20)\n",
      "memory usage: 1.7 MB\n"
     ]
    }
   ],
   "source": [
    "final_df = data1.copy()\n",
    "\n",
    "final_df.drop(['Airline', 'Source', 'Destination', 'Route'], axis = 1, inplace = True)\n",
    "final_df.head()\n",
    "final_df = pd.concat([final_df, Airline, Source, Destination], axis = 1)\n",
    "final_df.info()"
   ]
  },
  {
   "cell_type": "code",
   "execution_count": 36,
   "metadata": {},
   "outputs": [
    {
     "data": {
      "text/html": [
       "<div>\n",
       "<style scoped>\n",
       "    .dataframe tbody tr th:only-of-type {\n",
       "        vertical-align: middle;\n",
       "    }\n",
       "\n",
       "    .dataframe tbody tr th {\n",
       "        vertical-align: top;\n",
       "    }\n",
       "\n",
       "    .dataframe thead th {\n",
       "        text-align: right;\n",
       "    }\n",
       "</style>\n",
       "<table border=\"1\" class=\"dataframe\">\n",
       "  <thead>\n",
       "    <tr style=\"text-align: right;\">\n",
       "      <th></th>\n",
       "      <th>Total_Stops</th>\n",
       "      <th>journey_date</th>\n",
       "      <th>journey_month</th>\n",
       "      <th>Dep_hours</th>\n",
       "      <th>Dep_minutes</th>\n",
       "      <th>Arrival_hours</th>\n",
       "      <th>Arrival_minutes</th>\n",
       "      <th>duration_hours</th>\n",
       "      <th>duration_mins</th>\n",
       "      <th>Route1</th>\n",
       "      <th>...</th>\n",
       "      <th>airline__Vistara Premium economy</th>\n",
       "      <th>source__Chennai</th>\n",
       "      <th>source__Delhi</th>\n",
       "      <th>source__Kolkata</th>\n",
       "      <th>source__Mumbai</th>\n",
       "      <th>destination__Cochin</th>\n",
       "      <th>destination__Delhi</th>\n",
       "      <th>destination__Hyderabad</th>\n",
       "      <th>destination__Kolkata</th>\n",
       "      <th>destination__New Delhi</th>\n",
       "    </tr>\n",
       "  </thead>\n",
       "  <tbody>\n",
       "    <tr>\n",
       "      <th>0</th>\n",
       "      <td>0</td>\n",
       "      <td>24</td>\n",
       "      <td>3</td>\n",
       "      <td>22</td>\n",
       "      <td>20</td>\n",
       "      <td>1</td>\n",
       "      <td>10</td>\n",
       "      <td>2</td>\n",
       "      <td>50</td>\n",
       "      <td>0</td>\n",
       "      <td>...</td>\n",
       "      <td>0</td>\n",
       "      <td>0</td>\n",
       "      <td>0</td>\n",
       "      <td>0</td>\n",
       "      <td>0</td>\n",
       "      <td>0</td>\n",
       "      <td>0</td>\n",
       "      <td>0</td>\n",
       "      <td>0</td>\n",
       "      <td>1</td>\n",
       "    </tr>\n",
       "    <tr>\n",
       "      <th>1</th>\n",
       "      <td>2</td>\n",
       "      <td>5</td>\n",
       "      <td>1</td>\n",
       "      <td>5</td>\n",
       "      <td>50</td>\n",
       "      <td>13</td>\n",
       "      <td>15</td>\n",
       "      <td>7</td>\n",
       "      <td>25</td>\n",
       "      <td>2</td>\n",
       "      <td>...</td>\n",
       "      <td>0</td>\n",
       "      <td>0</td>\n",
       "      <td>0</td>\n",
       "      <td>1</td>\n",
       "      <td>0</td>\n",
       "      <td>0</td>\n",
       "      <td>0</td>\n",
       "      <td>0</td>\n",
       "      <td>0</td>\n",
       "      <td>0</td>\n",
       "    </tr>\n",
       "    <tr>\n",
       "      <th>2</th>\n",
       "      <td>2</td>\n",
       "      <td>6</td>\n",
       "      <td>9</td>\n",
       "      <td>9</td>\n",
       "      <td>25</td>\n",
       "      <td>4</td>\n",
       "      <td>25</td>\n",
       "      <td>19</td>\n",
       "      <td>0</td>\n",
       "      <td>3</td>\n",
       "      <td>...</td>\n",
       "      <td>0</td>\n",
       "      <td>0</td>\n",
       "      <td>1</td>\n",
       "      <td>0</td>\n",
       "      <td>0</td>\n",
       "      <td>1</td>\n",
       "      <td>0</td>\n",
       "      <td>0</td>\n",
       "      <td>0</td>\n",
       "      <td>0</td>\n",
       "    </tr>\n",
       "    <tr>\n",
       "      <th>3</th>\n",
       "      <td>1</td>\n",
       "      <td>5</td>\n",
       "      <td>12</td>\n",
       "      <td>18</td>\n",
       "      <td>5</td>\n",
       "      <td>23</td>\n",
       "      <td>30</td>\n",
       "      <td>5</td>\n",
       "      <td>25</td>\n",
       "      <td>2</td>\n",
       "      <td>...</td>\n",
       "      <td>0</td>\n",
       "      <td>0</td>\n",
       "      <td>0</td>\n",
       "      <td>1</td>\n",
       "      <td>0</td>\n",
       "      <td>0</td>\n",
       "      <td>0</td>\n",
       "      <td>0</td>\n",
       "      <td>0</td>\n",
       "      <td>0</td>\n",
       "    </tr>\n",
       "    <tr>\n",
       "      <th>4</th>\n",
       "      <td>1</td>\n",
       "      <td>3</td>\n",
       "      <td>1</td>\n",
       "      <td>16</td>\n",
       "      <td>50</td>\n",
       "      <td>21</td>\n",
       "      <td>35</td>\n",
       "      <td>4</td>\n",
       "      <td>45</td>\n",
       "      <td>0</td>\n",
       "      <td>...</td>\n",
       "      <td>0</td>\n",
       "      <td>0</td>\n",
       "      <td>0</td>\n",
       "      <td>0</td>\n",
       "      <td>0</td>\n",
       "      <td>0</td>\n",
       "      <td>0</td>\n",
       "      <td>0</td>\n",
       "      <td>0</td>\n",
       "      <td>1</td>\n",
       "    </tr>\n",
       "  </tbody>\n",
       "</table>\n",
       "<p>5 rows × 34 columns</p>\n",
       "</div>"
      ],
      "text/plain": [
       "   Total_Stops  journey_date  journey_month  Dep_hours  Dep_minutes  \\\n",
       "0            0            24              3         22           20   \n",
       "1            2             5              1          5           50   \n",
       "2            2             6              9          9           25   \n",
       "3            1             5             12         18            5   \n",
       "4            1             3              1         16           50   \n",
       "\n",
       "   Arrival_hours  Arrival_minutes  duration_hours  duration_mins  Route1  ...  \\\n",
       "0              1               10               2             50       0  ...   \n",
       "1             13               15               7             25       2  ...   \n",
       "2              4               25              19              0       3  ...   \n",
       "3             23               30               5             25       2  ...   \n",
       "4             21               35               4             45       0  ...   \n",
       "\n",
       "   airline__Vistara Premium economy  source__Chennai  source__Delhi  \\\n",
       "0                                 0                0              0   \n",
       "1                                 0                0              0   \n",
       "2                                 0                0              1   \n",
       "3                                 0                0              0   \n",
       "4                                 0                0              0   \n",
       "\n",
       "   source__Kolkata  source__Mumbai  destination__Cochin  destination__Delhi  \\\n",
       "0                0               0                    0                   0   \n",
       "1                1               0                    0                   0   \n",
       "2                0               0                    1                   0   \n",
       "3                1               0                    0                   0   \n",
       "4                0               0                    0                   0   \n",
       "\n",
       "   destination__Hyderabad  destination__Kolkata  destination__New Delhi  \n",
       "0                       0                     0                       1  \n",
       "1                       0                     0                       0  \n",
       "2                       0                     0                       0  \n",
       "3                       0                     0                       0  \n",
       "4                       0                     0                       1  \n",
       "\n",
       "[5 rows x 34 columns]"
      ]
     },
     "execution_count": 36,
     "metadata": {},
     "output_type": "execute_result"
    }
   ],
   "source": [
    "final_df.head()"
   ]
  },
  {
   "cell_type": "code",
   "execution_count": 44,
   "metadata": {},
   "outputs": [
    {
     "name": "stdout",
     "output_type": "stream",
     "text": [
      "<class 'pandas.core.frame.DataFrame'>\n",
      "RangeIndex: 10588 entries, 0 to 10587\n",
      "Data columns (total 35 columns):\n",
      " #   Column                                      Non-Null Count  Dtype\n",
      "---  ------                                      --------------  -----\n",
      " 0   Total_Stops                                 10588 non-null  int64\n",
      " 1   journey_date                                10588 non-null  int64\n",
      " 2   journey_month                               10588 non-null  int64\n",
      " 3   Dep_hours                                   10588 non-null  int64\n",
      " 4   Dep_minutes                                 10588 non-null  int64\n",
      " 5   Arrival_hours                               10588 non-null  int64\n",
      " 6   Arrival_minutes                             10588 non-null  int64\n",
      " 7   duration_hours                              10588 non-null  int64\n",
      " 8   duration_mins                               10588 non-null  int64\n",
      " 9   Route1                                      10588 non-null  int64\n",
      " 10  Route2                                      10588 non-null  int64\n",
      " 11  Route3                                      10588 non-null  int64\n",
      " 12  Route4                                      10588 non-null  int64\n",
      " 13  Route5                                      10588 non-null  int64\n",
      " 14  airline__Air India                          10588 non-null  uint8\n",
      " 15  airline__GoAir                              10588 non-null  uint8\n",
      " 16  airline__IndiGo                             10588 non-null  uint8\n",
      " 17  airline__Jet Airways                        10588 non-null  uint8\n",
      " 18  airline__Jet Airways Business               10588 non-null  uint8\n",
      " 19  airline__Multiple carriers                  10588 non-null  uint8\n",
      " 20  airline__Multiple carriers Premium economy  10588 non-null  uint8\n",
      " 21  airline__SpiceJet                           10588 non-null  uint8\n",
      " 22  airline__Trujet                             10588 non-null  uint8\n",
      " 23  airline__Vistara                            10588 non-null  uint8\n",
      " 24  airline__Vistara Premium economy            10588 non-null  uint8\n",
      " 25  source__Chennai                             10588 non-null  uint8\n",
      " 26  source__Delhi                               10588 non-null  uint8\n",
      " 27  source__Kolkata                             10588 non-null  uint8\n",
      " 28  source__Mumbai                              10588 non-null  uint8\n",
      " 29  destination__Cochin                         10588 non-null  uint8\n",
      " 30  destination__Delhi                          10588 non-null  uint8\n",
      " 31  destination__Hyderabad                      10588 non-null  uint8\n",
      " 32  destination__Kolkata                        10588 non-null  uint8\n",
      " 33  destination__New Delhi                      10588 non-null  uint8\n",
      " 34  Price                                       10588 non-null  int64\n",
      "dtypes: int64(15), uint8(20)\n",
      "memory usage: 1.4 MB\n"
     ]
    }
   ],
   "source": [
    "# concat the target column with the other manipulated features\n",
    "train_part = final_df.iloc[:10588][:]\n",
    "train_part = pd.concat([train_part, target], axis = 1)\n",
    "train_part.info()"
   ]
  },
  {
   "cell_type": "code",
   "execution_count": 45,
   "metadata": {},
   "outputs": [
    {
     "name": "stdout",
     "output_type": "stream",
     "text": [
      "<class 'pandas.core.frame.DataFrame'>\n",
      "RangeIndex: 2671 entries, 10588 to 13258\n",
      "Data columns (total 34 columns):\n",
      " #   Column                                      Non-Null Count  Dtype\n",
      "---  ------                                      --------------  -----\n",
      " 0   Total_Stops                                 2671 non-null   int64\n",
      " 1   journey_date                                2671 non-null   int64\n",
      " 2   journey_month                               2671 non-null   int64\n",
      " 3   Dep_hours                                   2671 non-null   int64\n",
      " 4   Dep_minutes                                 2671 non-null   int64\n",
      " 5   Arrival_hours                               2671 non-null   int64\n",
      " 6   Arrival_minutes                             2671 non-null   int64\n",
      " 7   duration_hours                              2671 non-null   int64\n",
      " 8   duration_mins                               2671 non-null   int64\n",
      " 9   Route1                                      2671 non-null   int64\n",
      " 10  Route2                                      2671 non-null   int64\n",
      " 11  Route3                                      2671 non-null   int64\n",
      " 12  Route4                                      2671 non-null   int64\n",
      " 13  Route5                                      2671 non-null   int64\n",
      " 14  airline__Air India                          2671 non-null   uint8\n",
      " 15  airline__GoAir                              2671 non-null   uint8\n",
      " 16  airline__IndiGo                             2671 non-null   uint8\n",
      " 17  airline__Jet Airways                        2671 non-null   uint8\n",
      " 18  airline__Jet Airways Business               2671 non-null   uint8\n",
      " 19  airline__Multiple carriers                  2671 non-null   uint8\n",
      " 20  airline__Multiple carriers Premium economy  2671 non-null   uint8\n",
      " 21  airline__SpiceJet                           2671 non-null   uint8\n",
      " 22  airline__Trujet                             2671 non-null   uint8\n",
      " 23  airline__Vistara                            2671 non-null   uint8\n",
      " 24  airline__Vistara Premium economy            2671 non-null   uint8\n",
      " 25  source__Chennai                             2671 non-null   uint8\n",
      " 26  source__Delhi                               2671 non-null   uint8\n",
      " 27  source__Kolkata                             2671 non-null   uint8\n",
      " 28  source__Mumbai                              2671 non-null   uint8\n",
      " 29  destination__Cochin                         2671 non-null   uint8\n",
      " 30  destination__Delhi                          2671 non-null   uint8\n",
      " 31  destination__Hyderabad                      2671 non-null   uint8\n",
      " 32  destination__Kolkata                        2671 non-null   uint8\n",
      " 33  destination__New Delhi                      2671 non-null   uint8\n",
      "dtypes: int64(14), uint8(20)\n",
      "memory usage: 344.4 KB\n"
     ]
    }
   ],
   "source": [
    "test_part = final_df.iloc[10588:][:]\n",
    "test_part.info()"
   ]
  },
  {
   "cell_type": "markdown",
   "metadata": {},
   "source": [
    "## Preprocessing Complete, ready for modeling"
   ]
  },
  {
   "cell_type": "markdown",
   "metadata": {},
   "source": [
    "#### 1) Feature Importance Check"
   ]
  },
  {
   "cell_type": "markdown",
   "metadata": {},
   "source": [
    "#### Since our project is categorical In numerical out case, hence This is a regression predictive modeling problem with categorical input variables."
   ]
  },
  {
   "cell_type": "code",
   "execution_count": 52,
   "metadata": {},
   "outputs": [
    {
     "data": {
      "image/png": "[encoded data removed]",
      "text/plain": [
       "<Figure size 2880x2160 with 2 Axes>"
      ]
     },
     "metadata": {
      "needs_background": "light"
     },
     "output_type": "display_data"
    }
   ],
   "source": [
    "# First check the correlation matrix to see if there exist strong linear relationships\n",
    "plt.figure(figsize = (40,30))\n",
    "my_corr = train_part.corr()\n",
    "sns.heatmap(my_corr, xticklabels = my_corr.columns, yticklabels = my_corr.columns, cmap = 'YlGnBu')\n",
    "plt.show()"
   ]
  },
  {
   "cell_type": "code",
   "execution_count": 53,
   "metadata": {},
   "outputs": [
    {
     "data": {
      "text/plain": [
       "Price                                         1.000000\n",
       "Total_Stops                                   0.667691\n",
       "duration_hours                                0.574937\n",
       "airline__Jet Airways                          0.451589\n",
       "destination__Cochin                           0.333034\n",
       "source__Delhi                                 0.333034\n",
       "Route1                                        0.265748\n",
       "airline__Multiple carriers                    0.161747\n",
       "destination__New Delhi                        0.105618\n",
       "journey_month                                 0.069031\n",
       "airline__Air India                            0.061651\n",
       "source__Kolkata                               0.037863\n",
       "Arrival_hours                                 0.037664\n",
       "airline__Multiple carriers Premium economy    0.021723\n",
       "Dep_hours                                     0.006989\n",
       "airline__Vistara Premium economy              0.000267\n",
       "airline__Trujet                              -0.011364\n",
       "Dep_minutes                                  -0.052967\n",
       "airline__Vistara                             -0.058922\n",
       "Route5                                       -0.066338\n",
       "Route2                                       -0.084440\n",
       "Arrival_minutes                              -0.097244\n",
       "airline__GoAir                               -0.101957\n",
       "duration_mins                                -0.139088\n",
       "journey_date                                 -0.143818\n",
       "source__Chennai                              -0.195045\n",
       "destination__Kolkata                         -0.195045\n",
       "source__Mumbai                               -0.258397\n",
       "destination__Hyderabad                       -0.258397\n",
       "airline__SpiceJet                            -0.325659\n",
       "destination__Delhi                           -0.339820\n",
       "Route4                                       -0.363476\n",
       "airline__IndiGo                              -0.388602\n",
       "Route3                                       -0.653940\n",
       "airline__Jet Airways Business                      NaN\n",
       "Name: Price, dtype: float64"
      ]
     },
     "execution_count": 53,
     "metadata": {},
     "output_type": "execute_result"
    }
   ],
   "source": [
    "# sorting the correlation coef\n",
    "my_corr['Price'].sort_values(ascending = False)"
   ]
  },
  {
   "cell_type": "markdown",
   "metadata": {},
   "source": [
    "#### we can see that features like Total_Stops, duration_hours, airline__Jet Airways show positive correlation with our Target features. Meanwhile, the feature Route3, airline_IndiGo, Route4 show negative correlation with our Target variable"
   ]
  },
  {
   "cell_type": "code",
   "execution_count": 54,
   "metadata": {},
   "outputs": [],
   "source": [
    "# Check for nonlinear Relation feature importance by using RandomForestRegressor"
   ]
  },
  {
   "cell_type": "code",
   "execution_count": 55,
   "metadata": {},
   "outputs": [
    {
     "data": {
      "image/png": "[encoded data removed]",
      "text/plain": [
       "<Figure size 1440x864 with 1 Axes>"
      ]
     },
     "metadata": {
      "needs_background": "light"
     },
     "output_type": "display_data"
    }
   ],
   "source": [
    "from sklearn.ensemble import RandomForestRegressor\n",
    "X = train_part.drop(['Price'], axis = 1)\n",
    "y = train_part['Price']\n",
    "\n",
    "RF_regressor = RandomForestRegressor()\n",
    "RF_regressor = RF_regressor.fit(X, y)\n",
    "\n",
    "importance = pd.Series(data = RF_regressor.feature_importances_, index = X.columns).sort_values(ascending = False)\n",
    "plt.figure(figsize = (20,12))\n",
    "plt.title('Feature Importance')\n",
    "ax = sns.barplot(y = importance.index, x = importance.values, orient = 'h')\n",
    "plt.show()"
   ]
  },
  {
   "cell_type": "markdown",
   "metadata": {},
   "source": [
    "#### this tells us that duration_hours has a high correlation with the target variables"
   ]
  },
  {
   "cell_type": "markdown",
   "metadata": {},
   "source": [
    "#### 2) Split our train_part into train and test to reduce variance"
   ]
  },
  {
   "cell_type": "code",
   "execution_count": 98,
   "metadata": {},
   "outputs": [
    {
     "name": "stdout",
     "output_type": "stream",
     "text": [
      "X_train shape (7411, 34)\n",
      "y_train shape (7411,)\n",
      "X_test shape (3177, 34)\n",
      "y_test shape (3177,)\n"
     ]
    }
   ],
   "source": [
    "from sklearn.model_selection import train_test_split\n",
    "\n",
    "X = train_part.loc[:, train_part.columns != 'Price']\n",
    "y = train_part['Price']\n",
    "\n",
    "X_train, X_test, y_train, y_test = train_test_split(X, y, test_size = 0.3, random_state = 16)\n",
    "\n",
    "print('X_train shape {}'.format(X_train.shape))\n",
    "print('y_train shape {}'.format(y_train.shape))\n",
    "print('X_test shape {}'.format(X_test.shape))\n",
    "print('y_test shape {}'.format(y_test.shape))\n"
   ]
  },
  {
   "cell_type": "code",
   "execution_count": 99,
   "metadata": {},
   "outputs": [],
   "source": [
    "# Choose the metrics \n",
    "from sklearn.metrics import mean_squared_error, mean_absolute_error, r2_score"
   ]
  },
  {
   "cell_type": "markdown",
   "metadata": {},
   "source": [
    "#### Linear Regression Modeling"
   ]
  },
  {
   "cell_type": "code",
   "execution_count": 100,
   "metadata": {},
   "outputs": [
    {
     "name": "stdout",
     "output_type": "stream",
     "text": [
      "******************** Linear Regression Modeling ********************\n",
      "RMSE for Linear Regression is: 2436.3039786835106\n",
      "MAE for Linear Regression is: 1840.1873797946294\n",
      "R2 score for Linear Regression is: 0.6512297156391782\n"
     ]
    }
   ],
   "source": [
    "from sklearn.linear_model import LinearRegression\n",
    "from sklearn.model_selection import GridSearchCV\n",
    "\n",
    "\n",
    "print('*' * 20 + ' Linear Regression Modeling ' + '*' * 20)\n",
    "LR_model = LinearRegression()\n",
    "LR_model.fit(X = X_train, y = y_train)\n",
    "LR_pred = LR_model.predict(X = X_test)\n",
    "print('RMSE for Linear Regression is: {}'.format(np.sqrt(mean_squared_error(y_test, LR_pred))))\n",
    "print('MAE for Linear Regression is: {}'.format(mean_absolute_error(y_test, LR_pred)))\n",
    "print('R2 score for Linear Regression is: {}'.format(r2_score(y_test, LR_pred)))"
   ]
  },
  {
   "cell_type": "markdown",
   "metadata": {},
   "source": [
    "#### Lasso Regression Modeling"
   ]
  },
  {
   "cell_type": "code",
   "execution_count": 101,
   "metadata": {},
   "outputs": [
    {
     "name": "stdout",
     "output_type": "stream",
     "text": [
      "******************** Lasso Regression Modeling ********************\n",
      "RMSE for Lasso Regression is: 2436.5883978943652\n",
      "MAE for Lasso Regression is: 1840.422151307011\n",
      "R2 score for Lasso Regression is: 0.6511482785441802\n"
     ]
    }
   ],
   "source": [
    "from sklearn.linear_model import Lasso\n",
    "\n",
    "\n",
    "print('*' * 20 + ' Lasso Regression Modeling ' + '*' * 20)\n",
    "Linear_Lasso = Lasso(alpha = 1)\n",
    "Linear_Lasso.fit(X_train, y_train)\n",
    "LL_pred = Linear_Lasso.predict(X = X_test)\n",
    "print('RMSE for Lasso Regression is: {}'.format(np.sqrt(mean_squared_error(y_test, LL_pred))))\n",
    "print('MAE for Lasso Regression is: {}'.format(mean_absolute_error(y_test, LL_pred)))\n",
    "print('R2 score for Lasso Regression is: {}'.format(r2_score(y_test, LL_pred)))"
   ]
  },
  {
   "cell_type": "markdown",
   "metadata": {},
   "source": [
    "#### KNeighers Regression Modeling "
   ]
  },
  {
   "cell_type": "code",
   "execution_count": 102,
   "metadata": {},
   "outputs": [
    {
     "name": "stdout",
     "output_type": "stream",
     "text": [
      "******************** KNN Regression Modeling ********************\n",
      "RMSE for KNN Regression is: 2358.681217135272\n",
      "MAE for KNN Regression is: 1652.1544853635505\n",
      "R2 score for KNN Regression is: 0.673099922283457\n"
     ]
    }
   ],
   "source": [
    "from sklearn.neighbors import KNeighborsRegressor\n",
    "\n",
    "print('*' * 20 + ' KNN Regression Modeling ' + '*' * 20)\n",
    "KNN = KNeighborsRegressor()\n",
    "KNN.fit(X_train, y_train)\n",
    "KNN_pred = KNN.predict(X = X_test)\n",
    "print('RMSE for KNN Regression is: {}'.format(np.sqrt(mean_squared_error(y_test, KNN_pred))))\n",
    "print('MAE for KNN Regression is: {}'.format(mean_absolute_error(y_test, KNN_pred)))\n",
    "print('R2 score for KNN Regression is: {}'.format(r2_score(y_test, KNN_pred)))"
   ]
  },
  {
   "cell_type": "markdown",
   "metadata": {},
   "source": [
    "#### Decision Tree Regression"
   ]
  },
  {
   "cell_type": "code",
   "execution_count": 103,
   "metadata": {},
   "outputs": [
    {
     "name": "stdout",
     "output_type": "stream",
     "text": [
      "******************** DecisionTree Regression Modeling ********************\n",
      "RMSE for DecisionTree Regression is: 2154.853651025493\n",
      "MAE for DecisionTree Regression is: 1279.1258787115728\n",
      "R2 score for DecisionTree Regression is: 0.7271574583826823\n"
     ]
    }
   ],
   "source": [
    "from sklearn.tree import DecisionTreeRegressor\n",
    "\n",
    "print('*' * 20 + ' DecisionTree Regression Modeling ' + '*' * 20)\n",
    "DT = DecisionTreeRegressor()\n",
    "DT.fit(X_train, y_train)\n",
    "DT_pred = DT.predict(X = X_test)\n",
    "print('RMSE for DecisionTree Regression is: {}'.format(np.sqrt(mean_squared_error(y_test, DT_pred))))\n",
    "print('MAE for DecisionTree Regression is: {}'.format(mean_absolute_error(y_test, DT_pred)))\n",
    "print('R2 score for DecisionTree Regression is: {}'.format(r2_score(y_test, DT_pred)))"
   ]
  },
  {
   "cell_type": "markdown",
   "metadata": {},
   "source": [
    "#### RandomForest Regression "
   ]
  },
  {
   "cell_type": "code",
   "execution_count": 105,
   "metadata": {},
   "outputs": [
    {
     "name": "stdout",
     "output_type": "stream",
     "text": [
      "******************** RandomForest Regression Modeling ********************\n",
      "RMSE for RandomForest Regression is: 1741.3255163541417\n",
      "MAE for RandomForest Regression is: 1115.2582588756852\n",
      "R2 score for RandomForest Regression is: 0.8218292309964117\n"
     ]
    }
   ],
   "source": [
    "from sklearn.ensemble import RandomForestRegressor\n",
    "\n",
    "print('*' * 20 + ' RandomForest Regression Modeling ' + '*' * 20)\n",
    "RF = RandomForestRegressor()\n",
    "RF.fit(X_train, y_train)\n",
    "RF_pred = RF.predict(X = X_test)\n",
    "print('RMSE for RandomForest Regression is: {}'.format(np.sqrt(mean_squared_error(y_test, RF_pred))))\n",
    "print('MAE for RandomForest Regression is: {}'.format(mean_absolute_error(y_test, RF_pred)))\n",
    "print('R2 score for RandomForest Regression is: {}'.format(r2_score(y_test, RF_pred)))"
   ]
  },
  {
   "cell_type": "markdown",
   "metadata": {},
   "source": [
    "#### Gradient Boosting Regression"
   ]
  },
  {
   "cell_type": "code",
   "execution_count": 116,
   "metadata": {},
   "outputs": [
    {
     "name": "stdout",
     "output_type": "stream",
     "text": [
      "******************** GradientBoosting Regression Modeling ********************\n",
      "RMSE for Gradient Boosting Regression is: 1743.4388121312506\n",
      "MAE for Gradient Boosting Regression is: 1116.2782500725589\n",
      "R2 score for Gradient Boosting Regression is: 0.8213965077524124\n"
     ]
    }
   ],
   "source": [
    "from sklearn.ensemble import GradientBoostingRegressor\n",
    "\n",
    "print('*' * 20 + ' GradientBoosting Regression Modeling ' + '*' * 20)\n",
    "GB = RandomForestRegressor()\n",
    "GB.fit(X_train, y_train)\n",
    "GB_pred = GB.predict(X = X_test)\n",
    "print('RMSE for Gradient Boosting Regression is: {}'.format(np.sqrt(mean_squared_error(y_test, GB_pred))))\n",
    "print('MAE for Gradient Boosting Regression is: {}'.format(mean_absolute_error(y_test, GB_pred)))\n",
    "print('R2 score for Gradient Boosting Regression is: {}'.format(r2_score(y_test, GB_pred)))"
   ]
  },
  {
   "cell_type": "markdown",
   "metadata": {},
   "source": [
    "#### Since Random Forest return the highest R2 score, we then decide to hyper tunning this model"
   ]
  },
  {
   "cell_type": "code",
   "execution_count": 119,
   "metadata": {},
   "outputs": [
    {
     "name": "stderr",
     "output_type": "stream",
     "text": [
      "/opt/anaconda3/lib/python3.7/site-packages/joblib/externals/loky/process_executor.py:691: UserWarning: A worker stopped while some jobs were given to the executor. This can be caused by a too short worker timeout or by a memory leak.\n",
      "  \"timeout or by a memory leak.\", UserWarning\n"
     ]
    },
    {
     "data": {
      "text/plain": [
       "{'n_estimators': 140, 'max_features': 'auto', 'max_depth': 15}"
      ]
     },
     "execution_count": 119,
     "metadata": {},
     "output_type": "execute_result"
    }
   ],
   "source": [
    "from sklearn.model_selection import RandomizedSearchCV\n",
    "\n",
    "Hyper_Parameters = {\n",
    "    'n_estimators': [100, 140, 180, 220, 260],\n",
    "    'max_features': ['auto', 'sqrt'],\n",
    "    'max_depth': [5,10,15,20],\n",
    "}\n",
    "\n",
    "rf = RandomForestRegressor()\n",
    "rf_rs_cv = RandomizedSearchCV(estimator = rf, param_distributions = Hyper_Parameters, cv = 10, n_jobs = -1)\n",
    "rf_rs_cv.fit(X_train, y_train)\n",
    "rf_rs_cv.best_params_"
   ]
  },
  {
   "cell_type": "code",
   "execution_count": 120,
   "metadata": {},
   "outputs": [
    {
     "name": "stdout",
     "output_type": "stream",
     "text": [
      "RMSE for Tunned Random Forest Regression is: 1630.3056620993145\n",
      "MAE for Tunned Random Forest Regression is: 1083.8106413664475\n",
      "R2 score for Tunned Random Forest Regression is: 0.8438238903743845\n"
     ]
    }
   ],
   "source": [
    "best_paramters = rf_rs_cv.best_params_\n",
    "\n",
    "final_model = RandomForestRegressor(n_estimators = 140, max_features = 'auto', max_depth = 15)\n",
    "final_model.fit(X_train, y_train)\n",
    "final_pred = final_model.predict(X = X_test)\n",
    "print('RMSE for Tunned Random Forest Regression is: {}'.format(np.sqrt(mean_squared_error(y_test, final_pred))))\n",
    "print('MAE for Tunned Random Forest Regression is: {}'.format(mean_absolute_error(y_test, final_pred)))\n",
    "print('R2 score for Tunned Random Forest Regression is: {}'.format(r2_score(y_test, final_pred)))"
   ]
  },
  {
   "cell_type": "markdown",
   "metadata": {},
   "source": [
    "#### Using the Tunned Model to predict our test set"
   ]
  },
  {
   "cell_type": "code",
   "execution_count": 122,
   "metadata": {},
   "outputs": [
    {
     "data": {
      "text/html": [
       "<div>\n",
       "<style scoped>\n",
       "    .dataframe tbody tr th:only-of-type {\n",
       "        vertical-align: middle;\n",
       "    }\n",
       "\n",
       "    .dataframe tbody tr th {\n",
       "        vertical-align: top;\n",
       "    }\n",
       "\n",
       "    .dataframe thead th {\n",
       "        text-align: right;\n",
       "    }\n",
       "</style>\n",
       "<table border=\"1\" class=\"dataframe\">\n",
       "  <thead>\n",
       "    <tr style=\"text-align: right;\">\n",
       "      <th></th>\n",
       "      <th>0</th>\n",
       "    </tr>\n",
       "  </thead>\n",
       "  <tbody>\n",
       "    <tr>\n",
       "      <th>0</th>\n",
       "      <td>11153.257486</td>\n",
       "    </tr>\n",
       "    <tr>\n",
       "      <th>1</th>\n",
       "      <td>4236.951044</td>\n",
       "    </tr>\n",
       "    <tr>\n",
       "      <th>2</th>\n",
       "      <td>13719.295367</td>\n",
       "    </tr>\n",
       "    <tr>\n",
       "      <th>3</th>\n",
       "      <td>10119.465478</td>\n",
       "    </tr>\n",
       "    <tr>\n",
       "      <th>4</th>\n",
       "      <td>4143.492479</td>\n",
       "    </tr>\n",
       "    <tr>\n",
       "      <th>...</th>\n",
       "      <td>...</td>\n",
       "    </tr>\n",
       "    <tr>\n",
       "      <th>2666</th>\n",
       "      <td>10242.849693</td>\n",
       "    </tr>\n",
       "    <tr>\n",
       "      <th>2667</th>\n",
       "      <td>5015.847708</td>\n",
       "    </tr>\n",
       "    <tr>\n",
       "      <th>2668</th>\n",
       "      <td>16565.958877</td>\n",
       "    </tr>\n",
       "    <tr>\n",
       "      <th>2669</th>\n",
       "      <td>13486.782723</td>\n",
       "    </tr>\n",
       "    <tr>\n",
       "      <th>2670</th>\n",
       "      <td>7596.744034</td>\n",
       "    </tr>\n",
       "  </tbody>\n",
       "</table>\n",
       "<p>2671 rows × 1 columns</p>\n",
       "</div>"
      ],
      "text/plain": [
       "                 0\n",
       "0     11153.257486\n",
       "1      4236.951044\n",
       "2     13719.295367\n",
       "3     10119.465478\n",
       "4      4143.492479\n",
       "...            ...\n",
       "2666  10242.849693\n",
       "2667   5015.847708\n",
       "2668  16565.958877\n",
       "2669  13486.782723\n",
       "2670   7596.744034\n",
       "\n",
       "[2671 rows x 1 columns]"
      ]
     },
     "execution_count": 122,
     "metadata": {},
     "output_type": "execute_result"
    }
   ],
   "source": [
    "test_pred = final_model.predict(X = test_part)\n",
    "pd.DataFrame(test_pred)"
   ]
  },
  {
   "cell_type": "code",
   "execution_count": null,
   "metadata": {},
   "outputs": [],
   "source": []
  }
 ],
 "metadata": {
  "kernelspec": {
   "display_name": "Python 3",
   "language": "python",
   "name": "python3"
  },
  "language_info": {
   "codemirror_mode": {
    "name": "ipython",
    "version": 3
   },
   "file_extension": ".py",
   "mimetype": "text/x-python",
   "name": "python",
   "nbconvert_exporter": "python",
   "pygments_lexer": "ipython3",
   "version": "3.7.4"
  }
 },
 "nbformat": 4,
 "nbformat_minor": 4
}
