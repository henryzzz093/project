{
 "cells": [
  {
   "cell_type": "code",
   "execution_count": 1,
   "metadata": {},
   "outputs": [],
   "source": [
    "# Henry Zou\n",
    "# ALY 6020"
   ]
  },
  {
   "cell_type": "code",
   "execution_count": 2,
   "metadata": {},
   "outputs": [],
   "source": [
    "# import required libraries\n",
    "import pandas as pd\n",
    "import numpy as np\n",
    "import matplotlib.pyplot as plt\n",
    "\n",
    "%matplotlib inline"
   ]
  },
  {
   "cell_type": "code",
   "execution_count": 3,
   "metadata": {},
   "outputs": [
    {
     "data": {
      "text/html": [
       "<div>\n",
       "<style scoped>\n",
       "    .dataframe tbody tr th:only-of-type {\n",
       "        vertical-align: middle;\n",
       "    }\n",
       "\n",
       "    .dataframe tbody tr th {\n",
       "        vertical-align: top;\n",
       "    }\n",
       "\n",
       "    .dataframe thead th {\n",
       "        text-align: right;\n",
       "    }\n",
       "</style>\n",
       "<table border=\"1\" class=\"dataframe\">\n",
       "  <thead>\n",
       "    <tr style=\"text-align: right;\">\n",
       "      <th></th>\n",
       "      <th>v1</th>\n",
       "      <th>v2</th>\n",
       "      <th>v3</th>\n",
       "      <th>v4</th>\n",
       "      <th>v5</th>\n",
       "      <th>v6</th>\n",
       "      <th>v7</th>\n",
       "      <th>v8</th>\n",
       "      <th>v9</th>\n",
       "    </tr>\n",
       "  </thead>\n",
       "  <tbody>\n",
       "    <tr>\n",
       "      <th>0</th>\n",
       "      <td>6</td>\n",
       "      <td>148</td>\n",
       "      <td>72</td>\n",
       "      <td>35</td>\n",
       "      <td>0</td>\n",
       "      <td>33.6</td>\n",
       "      <td>0.627</td>\n",
       "      <td>50</td>\n",
       "      <td>1</td>\n",
       "    </tr>\n",
       "    <tr>\n",
       "      <th>1</th>\n",
       "      <td>1</td>\n",
       "      <td>85</td>\n",
       "      <td>66</td>\n",
       "      <td>29</td>\n",
       "      <td>0</td>\n",
       "      <td>26.6</td>\n",
       "      <td>0.351</td>\n",
       "      <td>31</td>\n",
       "      <td>0</td>\n",
       "    </tr>\n",
       "    <tr>\n",
       "      <th>2</th>\n",
       "      <td>8</td>\n",
       "      <td>183</td>\n",
       "      <td>64</td>\n",
       "      <td>0</td>\n",
       "      <td>0</td>\n",
       "      <td>23.3</td>\n",
       "      <td>0.672</td>\n",
       "      <td>32</td>\n",
       "      <td>1</td>\n",
       "    </tr>\n",
       "    <tr>\n",
       "      <th>3</th>\n",
       "      <td>1</td>\n",
       "      <td>89</td>\n",
       "      <td>66</td>\n",
       "      <td>23</td>\n",
       "      <td>94</td>\n",
       "      <td>28.1</td>\n",
       "      <td>0.167</td>\n",
       "      <td>21</td>\n",
       "      <td>0</td>\n",
       "    </tr>\n",
       "    <tr>\n",
       "      <th>4</th>\n",
       "      <td>0</td>\n",
       "      <td>137</td>\n",
       "      <td>40</td>\n",
       "      <td>35</td>\n",
       "      <td>168</td>\n",
       "      <td>43.1</td>\n",
       "      <td>2.288</td>\n",
       "      <td>33</td>\n",
       "      <td>1</td>\n",
       "    </tr>\n",
       "    <tr>\n",
       "      <th>...</th>\n",
       "      <td>...</td>\n",
       "      <td>...</td>\n",
       "      <td>...</td>\n",
       "      <td>...</td>\n",
       "      <td>...</td>\n",
       "      <td>...</td>\n",
       "      <td>...</td>\n",
       "      <td>...</td>\n",
       "      <td>...</td>\n",
       "    </tr>\n",
       "    <tr>\n",
       "      <th>763</th>\n",
       "      <td>10</td>\n",
       "      <td>101</td>\n",
       "      <td>76</td>\n",
       "      <td>48</td>\n",
       "      <td>180</td>\n",
       "      <td>32.9</td>\n",
       "      <td>0.171</td>\n",
       "      <td>63</td>\n",
       "      <td>0</td>\n",
       "    </tr>\n",
       "    <tr>\n",
       "      <th>764</th>\n",
       "      <td>2</td>\n",
       "      <td>122</td>\n",
       "      <td>70</td>\n",
       "      <td>27</td>\n",
       "      <td>0</td>\n",
       "      <td>36.8</td>\n",
       "      <td>0.340</td>\n",
       "      <td>27</td>\n",
       "      <td>0</td>\n",
       "    </tr>\n",
       "    <tr>\n",
       "      <th>765</th>\n",
       "      <td>5</td>\n",
       "      <td>121</td>\n",
       "      <td>72</td>\n",
       "      <td>23</td>\n",
       "      <td>112</td>\n",
       "      <td>26.2</td>\n",
       "      <td>0.245</td>\n",
       "      <td>30</td>\n",
       "      <td>0</td>\n",
       "    </tr>\n",
       "    <tr>\n",
       "      <th>766</th>\n",
       "      <td>1</td>\n",
       "      <td>126</td>\n",
       "      <td>60</td>\n",
       "      <td>0</td>\n",
       "      <td>0</td>\n",
       "      <td>30.1</td>\n",
       "      <td>0.349</td>\n",
       "      <td>47</td>\n",
       "      <td>1</td>\n",
       "    </tr>\n",
       "    <tr>\n",
       "      <th>767</th>\n",
       "      <td>1</td>\n",
       "      <td>93</td>\n",
       "      <td>70</td>\n",
       "      <td>31</td>\n",
       "      <td>0</td>\n",
       "      <td>30.4</td>\n",
       "      <td>0.315</td>\n",
       "      <td>23</td>\n",
       "      <td>0</td>\n",
       "    </tr>\n",
       "  </tbody>\n",
       "</table>\n",
       "<p>768 rows × 9 columns</p>\n",
       "</div>"
      ],
      "text/plain": [
       "     v1   v2  v3  v4   v5    v6     v7  v8  v9\n",
       "0     6  148  72  35    0  33.6  0.627  50   1\n",
       "1     1   85  66  29    0  26.6  0.351  31   0\n",
       "2     8  183  64   0    0  23.3  0.672  32   1\n",
       "3     1   89  66  23   94  28.1  0.167  21   0\n",
       "4     0  137  40  35  168  43.1  2.288  33   1\n",
       "..   ..  ...  ..  ..  ...   ...    ...  ..  ..\n",
       "763  10  101  76  48  180  32.9  0.171  63   0\n",
       "764   2  122  70  27    0  36.8  0.340  27   0\n",
       "765   5  121  72  23  112  26.2  0.245  30   0\n",
       "766   1  126  60   0    0  30.1  0.349  47   1\n",
       "767   1   93  70  31    0  30.4  0.315  23   0\n",
       "\n",
       "[768 rows x 9 columns]"
      ]
     },
     "execution_count": 3,
     "metadata": {},
     "output_type": "execute_result"
    }
   ],
   "source": [
    "# read excel file\n",
    "data1 = pd.read_excel('week 4 - Assignment.xlsx', index_col = None)\n",
    "data1"
   ]
  },
  {
   "cell_type": "code",
   "execution_count": 4,
   "metadata": {},
   "outputs": [
    {
     "data": {
      "text/html": [
       "<div>\n",
       "<style scoped>\n",
       "    .dataframe tbody tr th:only-of-type {\n",
       "        vertical-align: middle;\n",
       "    }\n",
       "\n",
       "    .dataframe tbody tr th {\n",
       "        vertical-align: top;\n",
       "    }\n",
       "\n",
       "    .dataframe thead th {\n",
       "        text-align: right;\n",
       "    }\n",
       "</style>\n",
       "<table border=\"1\" class=\"dataframe\">\n",
       "  <thead>\n",
       "    <tr style=\"text-align: right;\">\n",
       "      <th></th>\n",
       "      <th>Pregnancies</th>\n",
       "      <th>Glucose</th>\n",
       "      <th>Blood Pressure</th>\n",
       "      <th>Triceps skinfold thickness</th>\n",
       "      <th>Serum insulin</th>\n",
       "      <th>BMI</th>\n",
       "      <th>Diabetes pedigree</th>\n",
       "      <th>Age</th>\n",
       "      <th>Class</th>\n",
       "    </tr>\n",
       "  </thead>\n",
       "  <tbody>\n",
       "    <tr>\n",
       "      <th>0</th>\n",
       "      <td>6</td>\n",
       "      <td>148</td>\n",
       "      <td>72</td>\n",
       "      <td>35</td>\n",
       "      <td>0</td>\n",
       "      <td>33.6</td>\n",
       "      <td>0.627</td>\n",
       "      <td>50</td>\n",
       "      <td>1</td>\n",
       "    </tr>\n",
       "    <tr>\n",
       "      <th>1</th>\n",
       "      <td>1</td>\n",
       "      <td>85</td>\n",
       "      <td>66</td>\n",
       "      <td>29</td>\n",
       "      <td>0</td>\n",
       "      <td>26.6</td>\n",
       "      <td>0.351</td>\n",
       "      <td>31</td>\n",
       "      <td>0</td>\n",
       "    </tr>\n",
       "    <tr>\n",
       "      <th>2</th>\n",
       "      <td>8</td>\n",
       "      <td>183</td>\n",
       "      <td>64</td>\n",
       "      <td>0</td>\n",
       "      <td>0</td>\n",
       "      <td>23.3</td>\n",
       "      <td>0.672</td>\n",
       "      <td>32</td>\n",
       "      <td>1</td>\n",
       "    </tr>\n",
       "    <tr>\n",
       "      <th>3</th>\n",
       "      <td>1</td>\n",
       "      <td>89</td>\n",
       "      <td>66</td>\n",
       "      <td>23</td>\n",
       "      <td>94</td>\n",
       "      <td>28.1</td>\n",
       "      <td>0.167</td>\n",
       "      <td>21</td>\n",
       "      <td>0</td>\n",
       "    </tr>\n",
       "    <tr>\n",
       "      <th>4</th>\n",
       "      <td>0</td>\n",
       "      <td>137</td>\n",
       "      <td>40</td>\n",
       "      <td>35</td>\n",
       "      <td>168</td>\n",
       "      <td>43.1</td>\n",
       "      <td>2.288</td>\n",
       "      <td>33</td>\n",
       "      <td>1</td>\n",
       "    </tr>\n",
       "    <tr>\n",
       "      <th>...</th>\n",
       "      <td>...</td>\n",
       "      <td>...</td>\n",
       "      <td>...</td>\n",
       "      <td>...</td>\n",
       "      <td>...</td>\n",
       "      <td>...</td>\n",
       "      <td>...</td>\n",
       "      <td>...</td>\n",
       "      <td>...</td>\n",
       "    </tr>\n",
       "    <tr>\n",
       "      <th>763</th>\n",
       "      <td>10</td>\n",
       "      <td>101</td>\n",
       "      <td>76</td>\n",
       "      <td>48</td>\n",
       "      <td>180</td>\n",
       "      <td>32.9</td>\n",
       "      <td>0.171</td>\n",
       "      <td>63</td>\n",
       "      <td>0</td>\n",
       "    </tr>\n",
       "    <tr>\n",
       "      <th>764</th>\n",
       "      <td>2</td>\n",
       "      <td>122</td>\n",
       "      <td>70</td>\n",
       "      <td>27</td>\n",
       "      <td>0</td>\n",
       "      <td>36.8</td>\n",
       "      <td>0.340</td>\n",
       "      <td>27</td>\n",
       "      <td>0</td>\n",
       "    </tr>\n",
       "    <tr>\n",
       "      <th>765</th>\n",
       "      <td>5</td>\n",
       "      <td>121</td>\n",
       "      <td>72</td>\n",
       "      <td>23</td>\n",
       "      <td>112</td>\n",
       "      <td>26.2</td>\n",
       "      <td>0.245</td>\n",
       "      <td>30</td>\n",
       "      <td>0</td>\n",
       "    </tr>\n",
       "    <tr>\n",
       "      <th>766</th>\n",
       "      <td>1</td>\n",
       "      <td>126</td>\n",
       "      <td>60</td>\n",
       "      <td>0</td>\n",
       "      <td>0</td>\n",
       "      <td>30.1</td>\n",
       "      <td>0.349</td>\n",
       "      <td>47</td>\n",
       "      <td>1</td>\n",
       "    </tr>\n",
       "    <tr>\n",
       "      <th>767</th>\n",
       "      <td>1</td>\n",
       "      <td>93</td>\n",
       "      <td>70</td>\n",
       "      <td>31</td>\n",
       "      <td>0</td>\n",
       "      <td>30.4</td>\n",
       "      <td>0.315</td>\n",
       "      <td>23</td>\n",
       "      <td>0</td>\n",
       "    </tr>\n",
       "  </tbody>\n",
       "</table>\n",
       "<p>768 rows × 9 columns</p>\n",
       "</div>"
      ],
      "text/plain": [
       "     Pregnancies  Glucose  Blood Pressure  Triceps skinfold thickness  \\\n",
       "0              6      148              72                          35   \n",
       "1              1       85              66                          29   \n",
       "2              8      183              64                           0   \n",
       "3              1       89              66                          23   \n",
       "4              0      137              40                          35   \n",
       "..           ...      ...             ...                         ...   \n",
       "763           10      101              76                          48   \n",
       "764            2      122              70                          27   \n",
       "765            5      121              72                          23   \n",
       "766            1      126              60                           0   \n",
       "767            1       93              70                          31   \n",
       "\n",
       "     Serum insulin   BMI  Diabetes pedigree  Age  Class  \n",
       "0                0  33.6              0.627   50      1  \n",
       "1                0  26.6              0.351   31      0  \n",
       "2                0  23.3              0.672   32      1  \n",
       "3               94  28.1              0.167   21      0  \n",
       "4              168  43.1              2.288   33      1  \n",
       "..             ...   ...                ...  ...    ...  \n",
       "763            180  32.9              0.171   63      0  \n",
       "764              0  36.8              0.340   27      0  \n",
       "765            112  26.2              0.245   30      0  \n",
       "766              0  30.1              0.349   47      1  \n",
       "767              0  30.4              0.315   23      0  \n",
       "\n",
       "[768 rows x 9 columns]"
      ]
     },
     "execution_count": 4,
     "metadata": {},
     "output_type": "execute_result"
    }
   ],
   "source": [
    "# rename columns name\n",
    "data1.columns = ['Pregnancies', 'Glucose', \n",
    "                 'Blood Pressure', 'Triceps skinfold thickness', \n",
    "                 'Serum insulin', 'BMI', 'Diabetes pedigree', 'Age', 'Class']\n",
    "data1"
   ]
  },
  {
   "cell_type": "markdown",
   "metadata": {},
   "source": [
    "<h3> EDA </h3>"
   ]
  },
  {
   "cell_type": "code",
   "execution_count": 5,
   "metadata": {},
   "outputs": [
    {
     "name": "stdout",
     "output_type": "stream",
     "text": [
      "<class 'pandas.core.frame.DataFrame'>\n",
      "RangeIndex: 768 entries, 0 to 767\n",
      "Data columns (total 9 columns):\n",
      " #   Column                      Non-Null Count  Dtype  \n",
      "---  ------                      --------------  -----  \n",
      " 0   Pregnancies                 768 non-null    int64  \n",
      " 1   Glucose                     768 non-null    int64  \n",
      " 2   Blood Pressure              768 non-null    int64  \n",
      " 3   Triceps skinfold thickness  768 non-null    int64  \n",
      " 4   Serum insulin               768 non-null    int64  \n",
      " 5   BMI                         768 non-null    float64\n",
      " 6   Diabetes pedigree           768 non-null    float64\n",
      " 7   Age                         768 non-null    int64  \n",
      " 8   Class                       768 non-null    int64  \n",
      "dtypes: float64(2), int64(7)\n",
      "memory usage: 54.1 KB\n"
     ]
    }
   ],
   "source": [
    "# basic info\n",
    "data1.info(verbose = True)"
   ]
  },
  {
   "cell_type": "code",
   "execution_count": 6,
   "metadata": {
    "scrolled": true
   },
   "outputs": [
    {
     "data": {
      "text/html": [
       "<div>\n",
       "<style scoped>\n",
       "    .dataframe tbody tr th:only-of-type {\n",
       "        vertical-align: middle;\n",
       "    }\n",
       "\n",
       "    .dataframe tbody tr th {\n",
       "        vertical-align: top;\n",
       "    }\n",
       "\n",
       "    .dataframe thead th {\n",
       "        text-align: right;\n",
       "    }\n",
       "</style>\n",
       "<table border=\"1\" class=\"dataframe\">\n",
       "  <thead>\n",
       "    <tr style=\"text-align: right;\">\n",
       "      <th></th>\n",
       "      <th>count</th>\n",
       "      <th>mean</th>\n",
       "      <th>std</th>\n",
       "      <th>min</th>\n",
       "      <th>25%</th>\n",
       "      <th>50%</th>\n",
       "      <th>75%</th>\n",
       "      <th>max</th>\n",
       "    </tr>\n",
       "  </thead>\n",
       "  <tbody>\n",
       "    <tr>\n",
       "      <th>Pregnancies</th>\n",
       "      <td>768.0</td>\n",
       "      <td>3.845052</td>\n",
       "      <td>3.369578</td>\n",
       "      <td>0.000</td>\n",
       "      <td>1.00000</td>\n",
       "      <td>3.0000</td>\n",
       "      <td>6.00000</td>\n",
       "      <td>17.00</td>\n",
       "    </tr>\n",
       "    <tr>\n",
       "      <th>Glucose</th>\n",
       "      <td>768.0</td>\n",
       "      <td>120.894531</td>\n",
       "      <td>31.972618</td>\n",
       "      <td>0.000</td>\n",
       "      <td>99.00000</td>\n",
       "      <td>117.0000</td>\n",
       "      <td>140.25000</td>\n",
       "      <td>199.00</td>\n",
       "    </tr>\n",
       "    <tr>\n",
       "      <th>Blood Pressure</th>\n",
       "      <td>768.0</td>\n",
       "      <td>69.105469</td>\n",
       "      <td>19.355807</td>\n",
       "      <td>0.000</td>\n",
       "      <td>62.00000</td>\n",
       "      <td>72.0000</td>\n",
       "      <td>80.00000</td>\n",
       "      <td>122.00</td>\n",
       "    </tr>\n",
       "    <tr>\n",
       "      <th>Triceps skinfold thickness</th>\n",
       "      <td>768.0</td>\n",
       "      <td>20.536458</td>\n",
       "      <td>15.952218</td>\n",
       "      <td>0.000</td>\n",
       "      <td>0.00000</td>\n",
       "      <td>23.0000</td>\n",
       "      <td>32.00000</td>\n",
       "      <td>99.00</td>\n",
       "    </tr>\n",
       "    <tr>\n",
       "      <th>Serum insulin</th>\n",
       "      <td>768.0</td>\n",
       "      <td>79.799479</td>\n",
       "      <td>115.244002</td>\n",
       "      <td>0.000</td>\n",
       "      <td>0.00000</td>\n",
       "      <td>30.5000</td>\n",
       "      <td>127.25000</td>\n",
       "      <td>846.00</td>\n",
       "    </tr>\n",
       "    <tr>\n",
       "      <th>BMI</th>\n",
       "      <td>768.0</td>\n",
       "      <td>31.992578</td>\n",
       "      <td>7.884160</td>\n",
       "      <td>0.000</td>\n",
       "      <td>27.30000</td>\n",
       "      <td>32.0000</td>\n",
       "      <td>36.60000</td>\n",
       "      <td>67.10</td>\n",
       "    </tr>\n",
       "    <tr>\n",
       "      <th>Diabetes pedigree</th>\n",
       "      <td>768.0</td>\n",
       "      <td>0.471876</td>\n",
       "      <td>0.331329</td>\n",
       "      <td>0.078</td>\n",
       "      <td>0.24375</td>\n",
       "      <td>0.3725</td>\n",
       "      <td>0.62625</td>\n",
       "      <td>2.42</td>\n",
       "    </tr>\n",
       "    <tr>\n",
       "      <th>Age</th>\n",
       "      <td>768.0</td>\n",
       "      <td>33.240885</td>\n",
       "      <td>11.760232</td>\n",
       "      <td>21.000</td>\n",
       "      <td>24.00000</td>\n",
       "      <td>29.0000</td>\n",
       "      <td>41.00000</td>\n",
       "      <td>81.00</td>\n",
       "    </tr>\n",
       "    <tr>\n",
       "      <th>Class</th>\n",
       "      <td>768.0</td>\n",
       "      <td>0.348958</td>\n",
       "      <td>0.476951</td>\n",
       "      <td>0.000</td>\n",
       "      <td>0.00000</td>\n",
       "      <td>0.0000</td>\n",
       "      <td>1.00000</td>\n",
       "      <td>1.00</td>\n",
       "    </tr>\n",
       "  </tbody>\n",
       "</table>\n",
       "</div>"
      ],
      "text/plain": [
       "                            count        mean         std     min       25%  \\\n",
       "Pregnancies                 768.0    3.845052    3.369578   0.000   1.00000   \n",
       "Glucose                     768.0  120.894531   31.972618   0.000  99.00000   \n",
       "Blood Pressure              768.0   69.105469   19.355807   0.000  62.00000   \n",
       "Triceps skinfold thickness  768.0   20.536458   15.952218   0.000   0.00000   \n",
       "Serum insulin               768.0   79.799479  115.244002   0.000   0.00000   \n",
       "BMI                         768.0   31.992578    7.884160   0.000  27.30000   \n",
       "Diabetes pedigree           768.0    0.471876    0.331329   0.078   0.24375   \n",
       "Age                         768.0   33.240885   11.760232  21.000  24.00000   \n",
       "Class                       768.0    0.348958    0.476951   0.000   0.00000   \n",
       "\n",
       "                                 50%        75%     max  \n",
       "Pregnancies                   3.0000    6.00000   17.00  \n",
       "Glucose                     117.0000  140.25000  199.00  \n",
       "Blood Pressure               72.0000   80.00000  122.00  \n",
       "Triceps skinfold thickness   23.0000   32.00000   99.00  \n",
       "Serum insulin                30.5000  127.25000  846.00  \n",
       "BMI                          32.0000   36.60000   67.10  \n",
       "Diabetes pedigree             0.3725    0.62625    2.42  \n",
       "Age                          29.0000   41.00000   81.00  \n",
       "Class                         0.0000    1.00000    1.00  "
      ]
     },
     "execution_count": 6,
     "metadata": {},
     "output_type": "execute_result"
    }
   ],
   "source": [
    "# describe\n",
    "data1.describe().T"
   ]
  },
  {
   "cell_type": "markdown",
   "metadata": {},
   "source": [
    "<h5> we can see that some of the columns have min 0, but columns like blood pressure cannot be 0, otherwise people would be dead already. therefore we need to consider data missing cases </h5>"
   ]
  },
  {
   "cell_type": "code",
   "execution_count": 7,
   "metadata": {},
   "outputs": [
    {
     "data": {
      "text/plain": [
       "False"
      ]
     },
     "execution_count": 7,
     "metadata": {},
     "output_type": "execute_result"
    }
   ],
   "source": [
    "# Null data:\n",
    "data1.isnull().values.any()"
   ]
  },
  {
   "cell_type": "code",
   "execution_count": 8,
   "metadata": {},
   "outputs": [
    {
     "name": "stdout",
     "output_type": "stream",
     "text": [
      "Pregnancies --> Missing Zeros : 111\n",
      "Glucose --> Missing Zeros : 5\n",
      "Blood Pressure --> Missing Zeros : 35\n",
      "Triceps skinfold thickness --> Missing Zeros : 227\n",
      "Serum insulin --> Missing Zeros : 374\n",
      "BMI --> Missing Zeros : 11\n",
      "Diabetes pedigree --> Missing Zeros : 0\n",
      "Age --> Missing Zeros : 0\n"
     ]
    }
   ],
   "source": [
    "# check for missing zeros for each columns:\n",
    "feature_columns = ['Pregnancies', 'Glucose', 'Blood Pressure', 'Triceps skinfold thickness', 'Serum insulin', 'BMI',\n",
    "                   'Diabetes pedigree', 'Age']\n",
    "for i in feature_columns:\n",
    "    print(f'{i} --> Missing Zeros : {len(data1.loc[data1[i] == 0])}')"
   ]
  },
  {
   "cell_type": "code",
   "execution_count": 9,
   "metadata": {},
   "outputs": [],
   "source": [
    "# replace 0 value with suitable values, lets use Nan for now:\n",
    "data1_copy = data1.copy(deep = True)\n",
    "data1_copy[['Glucose', 'Blood Pressure', 'Triceps skinfold thickness', 'Serum insulin', \n",
    "            'BMI']] = data1_copy[['Glucose', 'Blood Pressure', 'Triceps skinfold thickness', \n",
    "                                  'Serum insulin', 'BMI']].replace(0, np.NaN)\n"
   ]
  },
  {
   "cell_type": "code",
   "execution_count": 10,
   "metadata": {},
   "outputs": [
    {
     "name": "stdout",
     "output_type": "stream",
     "text": [
      "Pregnancies                     0\n",
      "Glucose                         5\n",
      "Blood Pressure                 35\n",
      "Triceps skinfold thickness    227\n",
      "Serum insulin                 374\n",
      "BMI                            11\n",
      "Diabetes pedigree               0\n",
      "Age                             0\n",
      "Class                           0\n",
      "dtype: int64\n"
     ]
    }
   ],
   "source": [
    "# count of NaNs:\n",
    "print(data1_copy.isnull().sum())"
   ]
  },
  {
   "cell_type": "code",
   "execution_count": 11,
   "metadata": {},
   "outputs": [
    {
     "data": {
      "image/png": "[encoded data removed]",
      "text/plain": [
       "<Figure size 1080x1080 with 9 Axes>"
      ]
     },
     "metadata": {
      "needs_background": "light"
     },
     "output_type": "display_data"
    }
   ],
   "source": [
    "dist = data1_copy.hist(figsize = (15,15))\n",
    "dist;"
   ]
  },
  {
   "cell_type": "markdown",
   "metadata": {},
   "source": [
    "<h4>1) we can see that blood pressure and Glucose are normal distributed (closely), we can use mean value to replace the NaN value </h4>\n",
    "<h4>2) Triceps skinfold thickness, BMI and Serum insulin however, are not in a bell shaped, we can use median value to replace the NaN value </h4>"
   ]
  },
  {
   "cell_type": "code",
   "execution_count": 12,
   "metadata": {},
   "outputs": [
    {
     "data": {
      "image/png": "[encoded data removed]",
      "text/plain": [
       "<Figure size 2160x2160 with 9 Axes>"
      ]
     },
     "metadata": {
      "needs_background": "light"
     },
     "output_type": "display_data"
    }
   ],
   "source": [
    "# fill Nan with mean or median values:\n",
    "data1_copy['Glucose'].fillna(data1_copy['Glucose'].mean(), inplace = True)\n",
    "data1_copy['Blood Pressure'].fillna(data1_copy['Blood Pressure'].mean(), inplace = True)\n",
    "\n",
    "data1_copy['Triceps skinfold thickness'].fillna(data1_copy['Triceps skinfold thickness'].median(), inplace = True)\n",
    "data1_copy['BMI'].fillna(data1_copy['BMI'].median(), inplace = True)\n",
    "data1_copy['Serum insulin'].fillna(data1_copy['Serum insulin'].median(), inplace = True)\n",
    "\n",
    "dist = data1_copy.hist(figsize = (30,30))\n",
    "dist;"
   ]
  },
  {
   "cell_type": "code",
   "execution_count": 13,
   "metadata": {},
   "outputs": [
    {
     "data": {
      "text/html": [
       "<div>\n",
       "<style scoped>\n",
       "    .dataframe tbody tr th:only-of-type {\n",
       "        vertical-align: middle;\n",
       "    }\n",
       "\n",
       "    .dataframe tbody tr th {\n",
       "        vertical-align: top;\n",
       "    }\n",
       "\n",
       "    .dataframe thead th {\n",
       "        text-align: right;\n",
       "    }\n",
       "</style>\n",
       "<table border=\"1\" class=\"dataframe\">\n",
       "  <thead>\n",
       "    <tr style=\"text-align: right;\">\n",
       "      <th></th>\n",
       "      <th>count</th>\n",
       "      <th>mean</th>\n",
       "      <th>std</th>\n",
       "      <th>min</th>\n",
       "      <th>25%</th>\n",
       "      <th>50%</th>\n",
       "      <th>75%</th>\n",
       "      <th>max</th>\n",
       "    </tr>\n",
       "  </thead>\n",
       "  <tbody>\n",
       "    <tr>\n",
       "      <th>Pregnancies</th>\n",
       "      <td>768.0</td>\n",
       "      <td>3.845052</td>\n",
       "      <td>3.369578</td>\n",
       "      <td>0.000</td>\n",
       "      <td>1.00000</td>\n",
       "      <td>3.000000</td>\n",
       "      <td>6.00000</td>\n",
       "      <td>17.00</td>\n",
       "    </tr>\n",
       "    <tr>\n",
       "      <th>Glucose</th>\n",
       "      <td>768.0</td>\n",
       "      <td>121.686763</td>\n",
       "      <td>30.435949</td>\n",
       "      <td>44.000</td>\n",
       "      <td>99.75000</td>\n",
       "      <td>117.000000</td>\n",
       "      <td>140.25000</td>\n",
       "      <td>199.00</td>\n",
       "    </tr>\n",
       "    <tr>\n",
       "      <th>Blood Pressure</th>\n",
       "      <td>768.0</td>\n",
       "      <td>72.405184</td>\n",
       "      <td>12.096346</td>\n",
       "      <td>24.000</td>\n",
       "      <td>64.00000</td>\n",
       "      <td>72.202592</td>\n",
       "      <td>80.00000</td>\n",
       "      <td>122.00</td>\n",
       "    </tr>\n",
       "    <tr>\n",
       "      <th>Triceps skinfold thickness</th>\n",
       "      <td>768.0</td>\n",
       "      <td>29.108073</td>\n",
       "      <td>8.791221</td>\n",
       "      <td>7.000</td>\n",
       "      <td>25.00000</td>\n",
       "      <td>29.000000</td>\n",
       "      <td>32.00000</td>\n",
       "      <td>99.00</td>\n",
       "    </tr>\n",
       "    <tr>\n",
       "      <th>Serum insulin</th>\n",
       "      <td>768.0</td>\n",
       "      <td>140.671875</td>\n",
       "      <td>86.383060</td>\n",
       "      <td>14.000</td>\n",
       "      <td>121.50000</td>\n",
       "      <td>125.000000</td>\n",
       "      <td>127.25000</td>\n",
       "      <td>846.00</td>\n",
       "    </tr>\n",
       "    <tr>\n",
       "      <th>BMI</th>\n",
       "      <td>768.0</td>\n",
       "      <td>32.455208</td>\n",
       "      <td>6.875177</td>\n",
       "      <td>18.200</td>\n",
       "      <td>27.50000</td>\n",
       "      <td>32.300000</td>\n",
       "      <td>36.60000</td>\n",
       "      <td>67.10</td>\n",
       "    </tr>\n",
       "    <tr>\n",
       "      <th>Diabetes pedigree</th>\n",
       "      <td>768.0</td>\n",
       "      <td>0.471876</td>\n",
       "      <td>0.331329</td>\n",
       "      <td>0.078</td>\n",
       "      <td>0.24375</td>\n",
       "      <td>0.372500</td>\n",
       "      <td>0.62625</td>\n",
       "      <td>2.42</td>\n",
       "    </tr>\n",
       "    <tr>\n",
       "      <th>Age</th>\n",
       "      <td>768.0</td>\n",
       "      <td>33.240885</td>\n",
       "      <td>11.760232</td>\n",
       "      <td>21.000</td>\n",
       "      <td>24.00000</td>\n",
       "      <td>29.000000</td>\n",
       "      <td>41.00000</td>\n",
       "      <td>81.00</td>\n",
       "    </tr>\n",
       "    <tr>\n",
       "      <th>Class</th>\n",
       "      <td>768.0</td>\n",
       "      <td>0.348958</td>\n",
       "      <td>0.476951</td>\n",
       "      <td>0.000</td>\n",
       "      <td>0.00000</td>\n",
       "      <td>0.000000</td>\n",
       "      <td>1.00000</td>\n",
       "      <td>1.00</td>\n",
       "    </tr>\n",
       "  </tbody>\n",
       "</table>\n",
       "</div>"
      ],
      "text/plain": [
       "                            count        mean        std     min        25%  \\\n",
       "Pregnancies                 768.0    3.845052   3.369578   0.000    1.00000   \n",
       "Glucose                     768.0  121.686763  30.435949  44.000   99.75000   \n",
       "Blood Pressure              768.0   72.405184  12.096346  24.000   64.00000   \n",
       "Triceps skinfold thickness  768.0   29.108073   8.791221   7.000   25.00000   \n",
       "Serum insulin               768.0  140.671875  86.383060  14.000  121.50000   \n",
       "BMI                         768.0   32.455208   6.875177  18.200   27.50000   \n",
       "Diabetes pedigree           768.0    0.471876   0.331329   0.078    0.24375   \n",
       "Age                         768.0   33.240885  11.760232  21.000   24.00000   \n",
       "Class                       768.0    0.348958   0.476951   0.000    0.00000   \n",
       "\n",
       "                                   50%        75%     max  \n",
       "Pregnancies                   3.000000    6.00000   17.00  \n",
       "Glucose                     117.000000  140.25000  199.00  \n",
       "Blood Pressure               72.202592   80.00000  122.00  \n",
       "Triceps skinfold thickness   29.000000   32.00000   99.00  \n",
       "Serum insulin               125.000000  127.25000  846.00  \n",
       "BMI                          32.300000   36.60000   67.10  \n",
       "Diabetes pedigree             0.372500    0.62625    2.42  \n",
       "Age                          29.000000   41.00000   81.00  \n",
       "Class                         0.000000    1.00000    1.00  "
      ]
     },
     "execution_count": 13,
     "metadata": {},
     "output_type": "execute_result"
    }
   ],
   "source": [
    "# check remodified data:\n",
    "data1_copy.describe().T"
   ]
  },
  {
   "cell_type": "code",
   "execution_count": 14,
   "metadata": {},
   "outputs": [
    {
     "data": {
      "image/png": "[encoded data removed]",
      "text/plain": [
       "<Figure size 1080x1080 with 9 Axes>"
      ]
     },
     "metadata": {
      "needs_background": "light"
     },
     "output_type": "display_data"
    }
   ],
   "source": [
    "# Boxplot\n",
    "data1_copy.plot(kind = 'box', subplots = True, layout = (3,3),  sharex = False, sharey = False, figsize = (15, 15));\n"
   ]
  },
  {
   "cell_type": "markdown",
   "metadata": {},
   "source": [
    "<h4> from above histograms, we can see that all features are not at the same scale, we can use scaling features to remodify our dataset </h4>"
   ]
  },
  {
   "cell_type": "code",
   "execution_count": 15,
   "metadata": {},
   "outputs": [
    {
     "data": {
      "text/html": [
       "<div>\n",
       "<style scoped>\n",
       "    .dataframe tbody tr th:only-of-type {\n",
       "        vertical-align: middle;\n",
       "    }\n",
       "\n",
       "    .dataframe tbody tr th {\n",
       "        vertical-align: top;\n",
       "    }\n",
       "\n",
       "    .dataframe thead th {\n",
       "        text-align: right;\n",
       "    }\n",
       "</style>\n",
       "<table border=\"1\" class=\"dataframe\">\n",
       "  <thead>\n",
       "    <tr style=\"text-align: right;\">\n",
       "      <th></th>\n",
       "      <th>Pregnancies</th>\n",
       "      <th>Glucose</th>\n",
       "      <th>Blood Pressure</th>\n",
       "      <th>Triceps skinfold thickness</th>\n",
       "      <th>Serum insulin</th>\n",
       "      <th>BMI</th>\n",
       "      <th>Diabetes pedigree</th>\n",
       "      <th>Age</th>\n",
       "    </tr>\n",
       "  </thead>\n",
       "  <tbody>\n",
       "    <tr>\n",
       "      <th>0</th>\n",
       "      <td>0.639947</td>\n",
       "      <td>0.865108</td>\n",
       "      <td>-0.033518</td>\n",
       "      <td>0.670643</td>\n",
       "      <td>-0.181541</td>\n",
       "      <td>0.166619</td>\n",
       "      <td>0.468492</td>\n",
       "      <td>1.425995</td>\n",
       "    </tr>\n",
       "    <tr>\n",
       "      <th>1</th>\n",
       "      <td>-0.844885</td>\n",
       "      <td>-1.206162</td>\n",
       "      <td>-0.529859</td>\n",
       "      <td>-0.012301</td>\n",
       "      <td>-0.181541</td>\n",
       "      <td>-0.852200</td>\n",
       "      <td>-0.365061</td>\n",
       "      <td>-0.190672</td>\n",
       "    </tr>\n",
       "    <tr>\n",
       "      <th>2</th>\n",
       "      <td>1.233880</td>\n",
       "      <td>2.015813</td>\n",
       "      <td>-0.695306</td>\n",
       "      <td>-0.012301</td>\n",
       "      <td>-0.181541</td>\n",
       "      <td>-1.332500</td>\n",
       "      <td>0.604397</td>\n",
       "      <td>-0.105584</td>\n",
       "    </tr>\n",
       "    <tr>\n",
       "      <th>3</th>\n",
       "      <td>-0.844885</td>\n",
       "      <td>-1.074652</td>\n",
       "      <td>-0.529859</td>\n",
       "      <td>-0.695245</td>\n",
       "      <td>-0.540642</td>\n",
       "      <td>-0.633881</td>\n",
       "      <td>-0.920763</td>\n",
       "      <td>-1.041549</td>\n",
       "    </tr>\n",
       "    <tr>\n",
       "      <th>4</th>\n",
       "      <td>-1.141852</td>\n",
       "      <td>0.503458</td>\n",
       "      <td>-2.680669</td>\n",
       "      <td>0.670643</td>\n",
       "      <td>0.316566</td>\n",
       "      <td>1.549303</td>\n",
       "      <td>5.484909</td>\n",
       "      <td>-0.020496</td>\n",
       "    </tr>\n",
       "    <tr>\n",
       "      <th>...</th>\n",
       "      <td>...</td>\n",
       "      <td>...</td>\n",
       "      <td>...</td>\n",
       "      <td>...</td>\n",
       "      <td>...</td>\n",
       "      <td>...</td>\n",
       "      <td>...</td>\n",
       "      <td>...</td>\n",
       "    </tr>\n",
       "    <tr>\n",
       "      <th>763</th>\n",
       "      <td>1.827813</td>\n",
       "      <td>-0.680125</td>\n",
       "      <td>0.297376</td>\n",
       "      <td>2.150354</td>\n",
       "      <td>0.455573</td>\n",
       "      <td>0.064737</td>\n",
       "      <td>-0.908682</td>\n",
       "      <td>2.532136</td>\n",
       "    </tr>\n",
       "    <tr>\n",
       "      <th>764</th>\n",
       "      <td>-0.547919</td>\n",
       "      <td>0.010298</td>\n",
       "      <td>-0.198965</td>\n",
       "      <td>-0.239949</td>\n",
       "      <td>-0.181541</td>\n",
       "      <td>0.632365</td>\n",
       "      <td>-0.398282</td>\n",
       "      <td>-0.531023</td>\n",
       "    </tr>\n",
       "    <tr>\n",
       "      <th>765</th>\n",
       "      <td>0.342981</td>\n",
       "      <td>-0.022579</td>\n",
       "      <td>-0.033518</td>\n",
       "      <td>-0.695245</td>\n",
       "      <td>-0.332132</td>\n",
       "      <td>-0.910418</td>\n",
       "      <td>-0.685193</td>\n",
       "      <td>-0.275760</td>\n",
       "    </tr>\n",
       "    <tr>\n",
       "      <th>766</th>\n",
       "      <td>-0.844885</td>\n",
       "      <td>0.141808</td>\n",
       "      <td>-1.026200</td>\n",
       "      <td>-0.012301</td>\n",
       "      <td>-0.181541</td>\n",
       "      <td>-0.342790</td>\n",
       "      <td>-0.371101</td>\n",
       "      <td>1.170732</td>\n",
       "    </tr>\n",
       "    <tr>\n",
       "      <th>767</th>\n",
       "      <td>-0.844885</td>\n",
       "      <td>-0.943143</td>\n",
       "      <td>-0.198965</td>\n",
       "      <td>0.215347</td>\n",
       "      <td>-0.181541</td>\n",
       "      <td>-0.299127</td>\n",
       "      <td>-0.473785</td>\n",
       "      <td>-0.871374</td>\n",
       "    </tr>\n",
       "  </tbody>\n",
       "</table>\n",
       "<p>768 rows × 8 columns</p>\n",
       "</div>"
      ],
      "text/plain": [
       "     Pregnancies   Glucose  Blood Pressure  Triceps skinfold thickness  \\\n",
       "0       0.639947  0.865108       -0.033518                    0.670643   \n",
       "1      -0.844885 -1.206162       -0.529859                   -0.012301   \n",
       "2       1.233880  2.015813       -0.695306                   -0.012301   \n",
       "3      -0.844885 -1.074652       -0.529859                   -0.695245   \n",
       "4      -1.141852  0.503458       -2.680669                    0.670643   \n",
       "..           ...       ...             ...                         ...   \n",
       "763     1.827813 -0.680125        0.297376                    2.150354   \n",
       "764    -0.547919  0.010298       -0.198965                   -0.239949   \n",
       "765     0.342981 -0.022579       -0.033518                   -0.695245   \n",
       "766    -0.844885  0.141808       -1.026200                   -0.012301   \n",
       "767    -0.844885 -0.943143       -0.198965                    0.215347   \n",
       "\n",
       "     Serum insulin       BMI  Diabetes pedigree       Age  \n",
       "0        -0.181541  0.166619           0.468492  1.425995  \n",
       "1        -0.181541 -0.852200          -0.365061 -0.190672  \n",
       "2        -0.181541 -1.332500           0.604397 -0.105584  \n",
       "3        -0.540642 -0.633881          -0.920763 -1.041549  \n",
       "4         0.316566  1.549303           5.484909 -0.020496  \n",
       "..             ...       ...                ...       ...  \n",
       "763       0.455573  0.064737          -0.908682  2.532136  \n",
       "764      -0.181541  0.632365          -0.398282 -0.531023  \n",
       "765      -0.332132 -0.910418          -0.685193 -0.275760  \n",
       "766      -0.181541 -0.342790          -0.371101  1.170732  \n",
       "767      -0.181541 -0.299127          -0.473785 -0.871374  \n",
       "\n",
       "[768 rows x 8 columns]"
      ]
     },
     "execution_count": 15,
     "metadata": {},
     "output_type": "execute_result"
    }
   ],
   "source": [
    "# load scaler\n",
    "from sklearn.preprocessing import StandardScaler\n",
    "\n",
    "X = data1_copy.drop('Class', axis = 1) # input feature vector\n",
    "y = data1_copy['Class']              # Labelled Target vector\n",
    "\n",
    "# start scaling\n",
    "scaler = StandardScaler()\n",
    "X_scaled = scaler.fit_transform(X)\n",
    "X = pd.DataFrame(X_scaled, columns = X.columns)\n",
    "X"
   ]
  },
  {
   "cell_type": "code",
   "execution_count": 16,
   "metadata": {},
   "outputs": [
    {
     "name": "stdout",
     "output_type": "stream",
     "text": [
      "Class                         1.000000\n",
      "Glucose                       0.492928\n",
      "BMI                           0.312038\n",
      "Age                           0.238356\n",
      "Pregnancies                   0.221898\n",
      "Triceps skinfold thickness    0.214873\n",
      "Serum insulin                 0.203790\n",
      "Diabetes pedigree             0.173844\n",
      "Blood Pressure                0.166074\n",
      "Name: Class, dtype: float64\n"
     ]
    }
   ],
   "source": [
    "# check for correlation\n",
    "new_corr = data1_copy.corr()\n",
    "print(new_corr['Class'].sort_values(ascending = False))"
   ]
  },
  {
   "cell_type": "code",
   "execution_count": 17,
   "metadata": {},
   "outputs": [
    {
     "name": "stdout",
     "output_type": "stream",
     "text": [
      "X_train shape: (614, 8)\n",
      "X_test shape: (154, 8)\n",
      "y_train shape: (614,)\n",
      "y_test shape: (154,)\n"
     ]
    }
   ],
   "source": [
    "# split dataset into training and testing groups with ratio 8:2 \n",
    "from sklearn.model_selection import train_test_split\n",
    "\n",
    "X_train, X_test, y_train, y_test = train_test_split(X, y, test_size = 0.2, random_state = 10)\n",
    "print('X_train shape: {}'.format(X_train.shape))\n",
    "print('X_test shape: {}'.format(X_test.shape))\n",
    "print('y_train shape: {}'.format(y_train.shape))\n",
    "print('y_test shape: {}'.format(y_test.shape))\n"
   ]
  },
  {
   "cell_type": "markdown",
   "metadata": {},
   "source": [
    "<h3>1) Logistic Regression </h3>"
   ]
  },
  {
   "cell_type": "code",
   "execution_count": 18,
   "metadata": {},
   "outputs": [
    {
     "name": "stdout",
     "output_type": "stream",
     "text": [
      "[[84 11]\n",
      " [29 30]]\n",
      "Accuracy Score for testing is 0.7402597402597403\n"
     ]
    },
    {
     "name": "stderr",
     "output_type": "stream",
     "text": [
      "/opt/anaconda3/lib/python3.7/site-packages/sklearn/model_selection/_split.py:1978: FutureWarning: The default value of cv will change from 3 to 5 in version 0.22. Specify it explicitly to silence this warning.\n",
      "  warnings.warn(CV_WARNING, FutureWarning)\n"
     ]
    }
   ],
   "source": [
    "# import required modules:\n",
    "from sklearn.linear_model import LogisticRegressionCV\n",
    "from sklearn.metrics import confusion_matrix, f1_score, accuracy_score\n",
    "\n",
    "# construct modeling\n",
    "LR = LogisticRegressionCV()\n",
    "\n",
    "# fitting data\n",
    "LR.fit(X_train, y_train)\n",
    "LR_y_pred = LR.predict(X_test)\n",
    "\n",
    "# check accuracy\n",
    "cm = confusion_matrix(y_test, LR_y_pred)\n",
    "print(cm)\n",
    "\n",
    "print('Accuracy Score for testing is {}'.format(accuracy_score(LR_y_pred, y_test)))"
   ]
  },
  {
   "cell_type": "markdown",
   "metadata": {},
   "source": [
    "<h4> Our confusion matrix for Logistic Regression shows that among the total 95 Actual No, we successfully predicted 84 of them and mispredicted 11 of them </h4>\n",
    "<h4> On the other hand, among the total 59 Actual Yes, we successfully predicted 30 of them and mispredicted 29 of them </h4>\n",
    "<h4> That means we made a total of 114 correct predictions out of a total of 154 (~74%). "
   ]
  },
  {
   "cell_type": "markdown",
   "metadata": {},
   "source": [
    "<h3>2) Naive Bayes Classifier </h3>"
   ]
  },
  {
   "cell_type": "code",
   "execution_count": 19,
   "metadata": {},
   "outputs": [
    {
     "name": "stdout",
     "output_type": "stream",
     "text": [
      "[[82 13]\n",
      " [27 32]]\n",
      "Accuracy Score for testing is 0.7402597402597403\n"
     ]
    }
   ],
   "source": [
    "# import required modules:\n",
    "from sklearn.naive_bayes import GaussianNB\n",
    "\n",
    "# construct modeling\n",
    "NB = GaussianNB()\n",
    "NB.fit(X_train, y_train)\n",
    "NB_y_pred = NB.predict(X_test)\n",
    "\n",
    "# check accuracy\n",
    "cm = confusion_matrix(y_test, NB_y_pred)\n",
    "print(cm)\n",
    "\n",
    "print('Accuracy Score for testing is {}'.format(accuracy_score(NB_y_pred, y_test)))"
   ]
  },
  {
   "cell_type": "markdown",
   "metadata": {},
   "source": [
    "<h4> Our confusion matrix for Naive Bayes shows that among the total 95 Actual No, we successfully predicted 82 of them and mispredicted 13 of them </h4>\n",
    "<h4> On the other hand, among the total 59 Actual Yes, we successfully predicted 32 of them and mispredicted 27 of them </h4>\n",
    "<h4> That means we made a total of 114 correct predictions out of a total of 154 (~74%). "
   ]
  },
  {
   "cell_type": "markdown",
   "metadata": {},
   "source": [
    "<h3>3) Decision tree classifier </h3>"
   ]
  },
  {
   "cell_type": "code",
   "execution_count": 20,
   "metadata": {},
   "outputs": [
    {
     "name": "stdout",
     "output_type": "stream",
     "text": [
      "[[75 20]\n",
      " [22 37]]\n",
      "Accuracy Score for testing is 0.7272727272727273\n"
     ]
    }
   ],
   "source": [
    "# import required modules:\n",
    "from sklearn.tree import DecisionTreeClassifier\n",
    "\n",
    "# construct modeling\n",
    "DT = DecisionTreeClassifier()\n",
    "DT.fit(X_train, y_train)\n",
    "DT_y_pred = DT.predict(X_test)\n",
    "\n",
    "# check accuracy\n",
    "cm = confusion_matrix(y_test, DT_y_pred)\n",
    "print(cm)\n",
    "\n",
    "print('Accuracy Score for testing is {}'.format(accuracy_score(DT_y_pred, y_test)))"
   ]
  },
  {
   "cell_type": "markdown",
   "metadata": {},
   "source": [
    "<h4> Our confusion matrix for Decision Tree shows that among the total 95 Actual No, we successfully predicted 72 of them and mispredicted 23 of them </h4>\n",
    "<h4> On the other hand, among the total 59 Actual Yes, we successfully predicted 34 of them and mispredicted 25 of them </h4>\n",
    "<h4> That means we made a total of 106 correct predictions out of a total of 154 (~68.88%). "
   ]
  },
  {
   "cell_type": "markdown",
   "metadata": {},
   "source": [
    "<h3>4) Random Forest Classifier </h3>"
   ]
  },
  {
   "cell_type": "code",
   "execution_count": 21,
   "metadata": {},
   "outputs": [
    {
     "name": "stdout",
     "output_type": "stream",
     "text": [
      "[[82 13]\n",
      " [29 30]]\n",
      "Accuracy Score for testing is 0.7272727272727273\n"
     ]
    }
   ],
   "source": [
    "# import required modules:\n",
    "from sklearn.ensemble import RandomForestClassifier\n",
    "\n",
    "# construct modeling\n",
    "RF = RandomForestClassifier(n_estimators = 100)\n",
    "RF.fit(X_train, y_train)\n",
    "RF_y_pred = RF.predict(X_test)\n",
    "\n",
    "# check accuracy\n",
    "cm = confusion_matrix(y_test, RF_y_pred.round())\n",
    "print(cm)\n",
    "\n",
    "print('Accuracy Score for testing is {}'.format(accuracy_score(RF_y_pred.round(), y_test)))"
   ]
  },
  {
   "cell_type": "markdown",
   "metadata": {},
   "source": [
    "<h4> Our confusion matrix for Random Forest shows that among the total 95 Actual No, we successfully predicted 85 of them and mispredicted 10 of them </h4>\n",
    "<h4> On the other hand, among the total 59 Actual Yes, we successfully predicted 31 of them and mispredicted 28 of them </h4>\n",
    "<h4> That means we made a total of 116 correct predictions out of a total of 154 (~75.32%). "
   ]
  },
  {
   "cell_type": "markdown",
   "metadata": {},
   "source": [
    "<h3>5) Boosted Tree </h3>"
   ]
  },
  {
   "cell_type": "code",
   "execution_count": 22,
   "metadata": {},
   "outputs": [
    {
     "name": "stdout",
     "output_type": "stream",
     "text": [
      "[[79 16]\n",
      " [24 35]]\n",
      "Accuracy Score for testing is 0.7402597402597403\n"
     ]
    }
   ],
   "source": [
    "# import required modules:\n",
    "from sklearn.ensemble import GradientBoostingClassifier\n",
    "\n",
    "# construct modeling\n",
    "BT = GradientBoostingClassifier(n_estimators = 100)\n",
    "BT.fit(X_train, y_train)\n",
    "BT_y_pred = BT.predict(X_test)\n",
    "\n",
    "# check accuracy\n",
    "cm = confusion_matrix(y_test, BT_y_pred.round())\n",
    "print(cm)\n",
    "\n",
    "print('Accuracy Score for testing is {}'.format(accuracy_score(BT_y_pred.round(), y_test)))"
   ]
  },
  {
   "cell_type": "markdown",
   "metadata": {},
   "source": [
    "<h3> 6) K-Nearest Neighbors (KNN) </h3>"
   ]
  },
  {
   "cell_type": "code",
   "execution_count": 23,
   "metadata": {},
   "outputs": [
    {
     "name": "stdout",
     "output_type": "stream",
     "text": [
      "[[79 16]\n",
      " [25 34]]\n",
      "Accuracy Score for testing is 0.7337662337662337\n"
     ]
    }
   ],
   "source": [
    "# import required modules:\n",
    "from sklearn.neighbors import KNeighborsClassifier\n",
    "\n",
    "# construct modeling\n",
    "KNN = KNeighborsClassifier()\n",
    "KNN.fit(X_train, y_train)\n",
    "KNN_y_pred = KNN.predict(X_test)\n",
    "\n",
    "# check accuracy\n",
    "cm = confusion_matrix(y_test, KNN_y_pred.round())\n",
    "print(cm)\n",
    "\n",
    "print('Accuracy Score for testing is {}'.format(accuracy_score(KNN_y_pred.round(), y_test)))"
   ]
  },
  {
   "cell_type": "code",
   "execution_count": 24,
   "metadata": {},
   "outputs": [],
   "source": [
    "# test_scores = []\n",
    "# train_scores = []\n",
    "\n",
    "# for i in range(1,15):\n",
    "\n",
    "#     knn = KNeighborsClassifier(i)\n",
    "#     knn.fit(X_train,y_train)\n",
    "    \n",
    "#     train_scores.append(knn.score(X_train,y_train))\n",
    "#     test_scores.append(knn.score(X_test,y_test))\n",
    "    \n",
    "# ## score that comes from testing on the same datapoints that were used for training    \n",
    "# max_train_score = max(train_scores)\n",
    "# train_scores_ind = [i for i, v in enumerate(train_scores) if v == max_train_score]\n",
    "# print('Max train score {} % and k = {}'.format(max_train_score*100,list(map(lambda x: x+1, train_scores_ind))))\n",
    "\n",
    "# ## score that comes from testing on the datapoints that were split in the beginning to be used for testing solely\n",
    "# max_test_score = max(test_scores)\n",
    "# test_scores_ind = [i for i, v in enumerate(test_scores) if v == max_test_score]\n",
    "# print('Max test score {} % and k = {}'.format(max_test_score*100,list(map(lambda x: x+1, test_scores_ind))))"
   ]
  },
  {
   "cell_type": "code",
   "execution_count": null,
   "metadata": {},
   "outputs": [],
   "source": []
  }
 ],
 "metadata": {
  "kernelspec": {
   "display_name": "Python 3",
   "language": "python",
   "name": "python3"
  },
  "language_info": {
   "codemirror_mode": {
    "name": "ipython",
    "version": 3
   },
   "file_extension": ".py",
   "mimetype": "text/x-python",
   "name": "python",
   "nbconvert_exporter": "python",
   "pygments_lexer": "ipython3",
   "version": "3.7.4"
  }
 },
 "nbformat": 4,
 "nbformat_minor": 2
}
