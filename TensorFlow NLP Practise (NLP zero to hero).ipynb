{
 "cells": [
  {
   "cell_type": "code",
   "execution_count": 12,
   "metadata": {},
   "outputs": [],
   "source": [
    "import tensorflow as tf\n",
    "from tensorflow import keras\n",
    "from tensorflow.keras.preprocessing.text import Tokenizer"
   ]
  },
  {
   "cell_type": "code",
   "execution_count": 13,
   "metadata": {},
   "outputs": [
    {
     "name": "stdout",
     "output_type": "stream",
     "text": [
      "{'i': 1, 'love': 2, 'my': 3, 'dog': 4, 'cat': 5}\n"
     ]
    }
   ],
   "source": [
    "sentence1 = [\n",
    "    'I love my dog',\n",
    "    'I love my cat'\n",
    "]\n",
    "\n",
    "tokenizer = Tokenizer(num_words = 100) # max numbers of words to keep\n",
    "tokenizer.fit_on_texts(sentence1)\n",
    "word_index = tokenizer.word_index\n",
    "print(word_index)\n"
   ]
  },
  {
   "cell_type": "code",
   "execution_count": 14,
   "metadata": {},
   "outputs": [
    {
     "name": "stdout",
     "output_type": "stream",
     "text": [
      "{'my': 1, 'love': 2, 'dog': 3, 'i': 4, 'you': 5, 'cat': 6, 'do': 7, 'think': 8, 'is': 9, 'amazing': 10}\n",
      "[[4, 2, 1, 3], [4, 2, 1, 6], [5, 2, 1, 3], [7, 5, 8, 1, 3, 9, 10]]\n"
     ]
    }
   ],
   "source": [
    "sentence2 = [\n",
    "    'I love my dog',\n",
    "    'I love my cat',\n",
    "    'You love my dog!',\n",
    "    'Do you think my dog is amazing?'\n",
    "]\n",
    "\n",
    "tokenizer = Tokenizer(num_words = 100) # max numbers of words to keep\n",
    "tokenizer.fit_on_texts(sentence2)\n",
    "word_index = tokenizer.word_index\n",
    "\n",
    "sequences = tokenizer.texts_to_sequences(sentence2)\n",
    "\n",
    "print(word_index)\n",
    "print(sequences)"
   ]
  },
  {
   "cell_type": "code",
   "execution_count": 15,
   "metadata": {},
   "outputs": [
    {
     "name": "stdout",
     "output_type": "stream",
     "text": [
      "[[4, 2, 1, 3], [1, 3, 1]]\n"
     ]
    }
   ],
   "source": [
    "test_data = [\n",
    "    'I really love my dog',\n",
    "    'my dog loves my manatee'\n",
    "]\n",
    "\n",
    "test_seq = tokenizer.texts_to_sequences(test_data)\n",
    "print(test_seq)"
   ]
  },
  {
   "cell_type": "markdown",
   "metadata": {},
   "source": [
    "**Notice that for the test data, 5 words string return only 4 numbers of sequence. Why? This is because \"really\" was not in the word index, the corpus used to build it didn't contain that word.**"
   ]
  },
  {
   "cell_type": "markdown",
   "metadata": {},
   "source": [
    "**Also second sentence (5 words) ended up in sequence [1,3,1]. which is \"my, dog, my\". because loves and manatee was not in the word index as well**"
   ]
  },
  {
   "cell_type": "code",
   "execution_count": 16,
   "metadata": {},
   "outputs": [
    {
     "name": "stdout",
     "output_type": "stream",
     "text": [
      "[[5, 1, 3, 2, 4], [2, 4, 1, 2, 1]]\n",
      "{'<OOV>': 1, 'my': 2, 'love': 3, 'dog': 4, 'i': 5, 'you': 6, 'cat': 7, 'do': 8, 'think': 9, 'is': 10, 'amazing': 11}\n"
     ]
    }
   ],
   "source": [
    "sentence2 = [\n",
    "    'I love my dog',\n",
    "    'I love my cat',\n",
    "    'You love my dog!',\n",
    "    'Do you think my dog is amazing?'\n",
    "]\n",
    "\n",
    "New_tokenizer = Tokenizer(num_words = 100, oov_token = '<OOV>')\n",
    "New_tokenizer.fit_on_texts(sentence2)\n",
    "word_index = New_tokenizer.word_index\n",
    "\n",
    "sequences = tokenizer.texts_to_sequences(sentence2)\n",
    "\n",
    "test_data = [\n",
    "    'I really love my dog',\n",
    "    'my dog loves my manatee'\n",
    "]\n",
    "\n",
    "test_seq = New_tokenizer.texts_to_sequences(test_data)\n",
    "print(test_seq)\n",
    "print(word_index)"
   ]
  },
  {
   "cell_type": "markdown",
   "metadata": {},
   "source": [
    "**Now you can see that those undefined words has been replaced by token <OOV>, and the length of sentence is now correct**"
   ]
  },
  {
   "cell_type": "code",
   "execution_count": 17,
   "metadata": {},
   "outputs": [],
   "source": [
    "from tensorflow.keras.preprocessing.sequence import pad_sequences"
   ]
  },
  {
   "cell_type": "code",
   "execution_count": 18,
   "metadata": {},
   "outputs": [
    {
     "name": "stdout",
     "output_type": "stream",
     "text": [
      "[[ 0  0  0  4  2  1  3]\n",
      " [ 0  0  0  4  2  1  6]\n",
      " [ 0  0  0  5  2  1  3]\n",
      " [ 7  5  8  1  3  9 10]]\n"
     ]
    }
   ],
   "source": [
    "padded = pad_sequences(sequences)\n",
    "print(padded)"
   ]
  },
  {
   "cell_type": "code",
   "execution_count": 19,
   "metadata": {},
   "outputs": [
    {
     "name": "stdout",
     "output_type": "stream",
     "text": [
      "[[ 4  2  1  3  0  0  0]\n",
      " [ 4  2  1  6  0  0  0]\n",
      " [ 5  2  1  3  0  0  0]\n",
      " [ 7  5  8  1  3  9 10]]\n"
     ]
    }
   ],
   "source": [
    "padded = pad_sequences(sequences, padding = 'post')\n",
    "print(padded)"
   ]
  },
  {
   "cell_type": "code",
   "execution_count": 20,
   "metadata": {},
   "outputs": [
    {
     "name": "stdout",
     "output_type": "stream",
     "text": [
      "[[ 0  0  0  0  0  4  2  1  3]\n",
      " [ 0  0  0  0  0  4  2  1  6]\n",
      " [ 0  0  0  0  0  5  2  1  3]\n",
      " [ 0  0  7  5  8  1  3  9 10]]\n"
     ]
    }
   ],
   "source": [
    "padded = pad_sequences(sequences, truncating = 'post', maxlen = 9)\n",
    "print(padded)"
   ]
  },
  {
   "cell_type": "code",
   "execution_count": 21,
   "metadata": {},
   "outputs": [
    {
     "name": "stdout",
     "output_type": "stream",
     "text": [
      "[[ 0  0  0  0  0  4  2  1  3]\n",
      " [ 0  0  0  0  0  4  2  1  6]\n",
      " [ 0  0  0  0  0  5  2  1  3]\n",
      " [ 0  0  7  5  8  1  3  9 10]]\n"
     ]
    }
   ],
   "source": [
    "padded = pad_sequences(sequences, truncating = 'pre', maxlen = 9)\n",
    "print(padded)"
   ]
  },
  {
   "cell_type": "code",
   "execution_count": 22,
   "metadata": {},
   "outputs": [],
   "source": [
    "import json"
   ]
  },
  {
   "cell_type": "code",
   "execution_count": 23,
   "metadata": {},
   "outputs": [],
   "source": [
    "# with open('Sarcasm_Headlines_Dataset.json', 'r') as f:\n",
    "#     datastore = json.load(f)\n",
    "    \n",
    "data = [json.loads(line) for line in open('Sarcasm_Headlines_Dataset.json', 'r')]\n",
    "data\n",
    "    \n",
    "sentences = []\n",
    "labels = []\n",
    "urls = []\n",
    "\n",
    "for item in data:\n",
    "    sentences.append(item['headline'])\n",
    "    labels.append(item['is_sarcastic'])\n",
    "    urls.append(item['article_link'])"
   ]
  },
  {
   "cell_type": "code",
   "execution_count": 32,
   "metadata": {},
   "outputs": [
    {
     "name": "stdout",
     "output_type": "stream",
     "text": [
      "[  308 15115   679  3337  2298    48   382  2576 15116     6  2577  8434\n",
      "     0     0     0     0     0     0     0     0     0     0     0     0\n",
      "     0     0     0     0     0     0     0     0     0     0     0     0\n",
      "     0     0     0     0]\n",
      "(26709, 40)\n"
     ]
    }
   ],
   "source": [
    "tokenizer = Tokenizer(oov_token = '<OOV>')\n",
    "tokenizer.fit_on_texts(sentences) # we will create token for every words in the corpus\n",
    "word_index = tokenizer.word_index\n",
    "\n",
    "sequences = tokenizer.texts_to_sequences(sentences)\n",
    "padded = pad_sequences(sequences, padding = 'post')\n",
    "# print(word_index)\n",
    "print(padded[0])\n",
    "print(padded.shape)"
   ]
  },
  {
   "cell_type": "code",
   "execution_count": 40,
   "metadata": {},
   "outputs": [],
   "source": [
    "# slice them into training and testing\n",
    "training_size = 20000\n",
    "vocab_size = 10000\n",
    "embedding_dim = 16\n",
    "max_length = 100\n",
    "trunc_type = 'post'\n",
    "padding_type = 'post'\n",
    "oov_tok = '<OOV>'\n",
    "\n",
    "\n",
    "training_sentences = sentences[0:training_size]\n",
    "testing_sentences = sentences[training_size:]\n",
    "training_labels = labels[0:training_size]\n",
    "testing_labels = labels[training_size:]\n",
    "\n",
    "# but we want our Neural net only see the training set, not the testing set"
   ]
  },
  {
   "cell_type": "code",
   "execution_count": 42,
   "metadata": {},
   "outputs": [],
   "source": [
    "tokenizer = Tokenizer(num_words = vocab_size, oov_token = oov_tok)\n",
    "tokenizer.fit_on_texts(training_sentences)\n",
    "\n",
    "word_index = tokenizer.word_index\n",
    "\n",
    "training_sequences = tokenizer.texts_to_sequences(training_sentences)\n",
    "training_padded = pad_sequences(training_sequences, maxlen = max_length, padding = padding_type, \n",
    "                                truncating = trunc_type)\n",
    "\n",
    "testing_sequences = tokenizer.texts_to_sequences(testing_sentences)\n",
    "testing_padded = pad_sequences(testing_sequences, maxlen = max_length,\n",
    "                              padding = padding_type, truncating = trunc_type)"
   ]
  },
  {
   "cell_type": "code",
   "execution_count": 46,
   "metadata": {},
   "outputs": [],
   "source": [
    "import numpy as np\n",
    "training_padded = np.array(training_padded)\n",
    "training_labels = np.array(training_labels)\n",
    "testing_padded = np.array(testing_padded)\n",
    "testing_labels = np.array(testing_labels)\n"
   ]
  },
  {
   "cell_type": "code",
   "execution_count": 49,
   "metadata": {},
   "outputs": [],
   "source": [
    "# build text-classification model\n",
    "\n",
    "model = tf.keras.Sequential([\n",
    "    tf.keras.layers.Embedding(vocab_size, embedding_dim, input_length = max_length),\n",
    "    tf.keras.layers.GlobalAveragePooling1D(),\n",
    "    tf.keras.layers.Dense(24, activation = 'relu'),\n",
    "    tf.keras.layers.Dense(1, activation = 'sigmoid')\n",
    "])\n",
    "\n",
    "model.compile(loss = 'binary_crossentropy', optimizer = 'adam', metrics = ['accuracy'])"
   ]
  },
  {
   "cell_type": "code",
   "execution_count": 50,
   "metadata": {},
   "outputs": [
    {
     "name": "stdout",
     "output_type": "stream",
     "text": [
      "Epoch 1/30\n",
      "625/625 - 1s - loss: 0.6761 - accuracy: 0.5623 - val_loss: 0.6315 - val_accuracy: 0.6532\n",
      "Epoch 2/30\n",
      "625/625 - 1s - loss: 0.4821 - accuracy: 0.7970 - val_loss: 0.4045 - val_accuracy: 0.8307\n",
      "Epoch 3/30\n",
      "625/625 - 1s - loss: 0.3292 - accuracy: 0.8697 - val_loss: 0.3616 - val_accuracy: 0.8483\n",
      "Epoch 4/30\n",
      "625/625 - 1s - loss: 0.2742 - accuracy: 0.8918 - val_loss: 0.3468 - val_accuracy: 0.8551\n",
      "Epoch 5/30\n",
      "625/625 - 1s - loss: 0.2374 - accuracy: 0.9076 - val_loss: 0.3433 - val_accuracy: 0.8572\n",
      "Epoch 6/30\n",
      "625/625 - 1s - loss: 0.2090 - accuracy: 0.9190 - val_loss: 0.3494 - val_accuracy: 0.8521\n",
      "Epoch 7/30\n",
      "625/625 - 1s - loss: 0.1870 - accuracy: 0.9300 - val_loss: 0.3811 - val_accuracy: 0.8393\n",
      "Epoch 8/30\n",
      "625/625 - 1s - loss: 0.1681 - accuracy: 0.9390 - val_loss: 0.3763 - val_accuracy: 0.8512\n",
      "Epoch 9/30\n",
      "625/625 - 1s - loss: 0.1544 - accuracy: 0.9428 - val_loss: 0.3787 - val_accuracy: 0.8535\n",
      "Epoch 10/30\n",
      "625/625 - 1s - loss: 0.1391 - accuracy: 0.9507 - val_loss: 0.3939 - val_accuracy: 0.8521\n",
      "Epoch 11/30\n",
      "625/625 - 1s - loss: 0.1276 - accuracy: 0.9564 - val_loss: 0.4107 - val_accuracy: 0.8505\n",
      "Epoch 12/30\n",
      "625/625 - 1s - loss: 0.1155 - accuracy: 0.9615 - val_loss: 0.4294 - val_accuracy: 0.8492\n",
      "Epoch 13/30\n",
      "625/625 - 1s - loss: 0.1078 - accuracy: 0.9635 - val_loss: 0.4514 - val_accuracy: 0.8480\n",
      "Epoch 14/30\n",
      "625/625 - 1s - loss: 0.0997 - accuracy: 0.9661 - val_loss: 0.4713 - val_accuracy: 0.8468\n",
      "Epoch 15/30\n",
      "625/625 - 1s - loss: 0.0910 - accuracy: 0.9707 - val_loss: 0.4998 - val_accuracy: 0.8411\n",
      "Epoch 16/30\n",
      "625/625 - 1s - loss: 0.0837 - accuracy: 0.9738 - val_loss: 0.5340 - val_accuracy: 0.8378\n",
      "Epoch 17/30\n",
      "625/625 - 1s - loss: 0.0784 - accuracy: 0.9750 - val_loss: 0.5492 - val_accuracy: 0.8354\n",
      "Epoch 18/30\n",
      "625/625 - 1s - loss: 0.0730 - accuracy: 0.9767 - val_loss: 0.5825 - val_accuracy: 0.8338\n",
      "Epoch 19/30\n",
      "625/625 - 1s - loss: 0.0668 - accuracy: 0.9782 - val_loss: 0.6022 - val_accuracy: 0.8343\n",
      "Epoch 20/30\n",
      "625/625 - 1s - loss: 0.0624 - accuracy: 0.9807 - val_loss: 0.6477 - val_accuracy: 0.8314\n",
      "Epoch 21/30\n",
      "625/625 - 1s - loss: 0.0577 - accuracy: 0.9829 - val_loss: 0.6584 - val_accuracy: 0.8269\n",
      "Epoch 22/30\n",
      "625/625 - 1s - loss: 0.0561 - accuracy: 0.9825 - val_loss: 0.7147 - val_accuracy: 0.8255\n",
      "Epoch 23/30\n",
      "625/625 - 1s - loss: 0.0490 - accuracy: 0.9847 - val_loss: 0.7347 - val_accuracy: 0.8250\n",
      "Epoch 24/30\n",
      "625/625 - 1s - loss: 0.0466 - accuracy: 0.9863 - val_loss: 0.7651 - val_accuracy: 0.8243\n",
      "Epoch 25/30\n",
      "625/625 - 1s - loss: 0.0436 - accuracy: 0.9870 - val_loss: 0.8074 - val_accuracy: 0.8205\n",
      "Epoch 26/30\n",
      "625/625 - 1s - loss: 0.0404 - accuracy: 0.9883 - val_loss: 0.8283 - val_accuracy: 0.8220\n",
      "Epoch 27/30\n",
      "625/625 - 1s - loss: 0.0374 - accuracy: 0.9890 - val_loss: 0.8932 - val_accuracy: 0.8164\n",
      "Epoch 28/30\n",
      "625/625 - 1s - loss: 0.0347 - accuracy: 0.9901 - val_loss: 0.8987 - val_accuracy: 0.8190\n",
      "Epoch 29/30\n",
      "625/625 - 1s - loss: 0.0320 - accuracy: 0.9912 - val_loss: 0.9018 - val_accuracy: 0.8141\n",
      "Epoch 30/30\n",
      "625/625 - 1s - loss: 0.0295 - accuracy: 0.9926 - val_loss: 1.0158 - val_accuracy: 0.8162\n"
     ]
    }
   ],
   "source": [
    "num_epochs = 30\n",
    "\n",
    "history = model.fit(training_padded, training_labels, epochs=num_epochs, \n",
    "                   validation_data = (testing_padded, testing_labels), verbose = 2)"
   ]
  },
  {
   "cell_type": "code",
   "execution_count": 60,
   "metadata": {},
   "outputs": [
    {
     "name": "stdout",
     "output_type": "stream",
     "text": [
      "[[0.715]\n",
      " [0.   ]]\n"
     ]
    }
   ],
   "source": [
    "check_sentences = [\n",
    "    \"granny starting to fear spiders in the garden might be real\",\n",
    "    \"the weather today is bright and sunny\"\n",
    "]\n",
    "\n",
    "sequences = tokenizer.texts_to_sequences(check_sentences)\n",
    "padded = pad_sequences(sequences, maxlen = max_length,\n",
    "                      padding = padding_type,\n",
    "                      truncating = trunc_type)\n",
    "\n",
    "ans = model.predict(padded)\n",
    "print(np.round(ans,4))"
   ]
  },
  {
   "cell_type": "markdown",
   "metadata": {},
   "source": [
    "**Generating Text**"
   ]
  },
  {
   "cell_type": "markdown",
   "metadata": {},
   "source": [
    "**recurrent neural networks**"
   ]
  },
  {
   "cell_type": "markdown",
   "metadata": {},
   "source": [
    "**it takes the sequence of data into account when it is learning.**\n"
   ]
  },
  {
   "cell_type": "markdown",
   "metadata": {},
   "source": [
    "**on the previous example classifier for text, the order of the words appear in the sentence doesn't really matter\n",
    "What really determined teh sentiment was the vector that resulted in adding up all of the individual vectors for \n",
    "the individual words. the direction of the vector roughly gave us the sentiments.**"
   ]
  },
  {
   "cell_type": "code",
   "execution_count": 63,
   "metadata": {},
   "outputs": [],
   "source": [
    "# long short term Memory for NLP"
   ]
  },
  {
   "cell_type": "code",
   "execution_count": 64,
   "metadata": {},
   "outputs": [],
   "source": [
    "# Today has a beatiful blue <?>  \n",
    "# since we have lots of context close to the word, and most notably the word blue.\n",
    "\n",
    "# I live in Ireland, so at school they made me learn how to speak <?> \n",
    "# the possible answer would be \"Gaelic\" since it is relative to country Ireland,\n",
    "# but how do we do that? because country determine the language, the word Ireland is very back in the sentence\n",
    "# so when using recurrent neural networks, this would be hard to archieve\n",
    "# However, LSTM (long short term memory) Neural network has something called Cell state, which is a context can be\n",
    "# maintained across many timestamps, and which can bring meaning from the beginning of the sentence to bear."
   ]
  },
  {
   "cell_type": "code",
   "execution_count": 66,
   "metadata": {},
   "outputs": [],
   "source": [
    "# lets try LSTM neural network:\n",
    "# bidirectional can learn your sentences both forward and backward \n",
    "# and discover the best parameters for each, and then merge them.\n",
    "\n",
    "# LSTM_model = tf.keras.Sequential([\n",
    "#     tf.keras.layers.Embedding(tokenizer.vocab_size, 64),\n",
    "#     tf.keras.layers.Bidirectional(tf.keras.layers.LSTM(64)),  \n",
    "#     tf.keras.layers.Dense(64, activation = 'relu'),\n",
    "#     tf.keras.layers.Dense(1, activation = 'sigmoid')\n",
    "    \n",
    "# ])"
   ]
  },
  {
   "cell_type": "code",
   "execution_count": 87,
   "metadata": {},
   "outputs": [
    {
     "name": "stdout",
     "output_type": "stream",
     "text": [
      "[[51, 12], [51, 12, 96], [51, 12, 96, 1217], [51, 12, 96, 1217, 48], [51, 12, 96, 1217, 48, 2], [51, 12, 96, 1217, 48, 2, 69]]\n"
     ]
    }
   ],
   "source": [
    "tokenizer = Tokenizer()\n",
    "\n",
    "data = open('irish-lyrics-eof.txt').read()\n",
    "corpus = data.lower().split('\\n')\n",
    "\n",
    "tokenizer.fit_on_texts(corpus)\n",
    "total_words = len(tokenizer.word_index) + 1\n",
    "\n",
    "input_sequences = [] # create an emply list of sequences\n",
    "\n",
    "for line in corpus: # for each line in the corpus\n",
    "    # create a list of tokens, this would give me the text to sequences for the current line\n",
    "    token_list = tokenizer.texts_to_sequences([line])[0] \n",
    "#     print(token_list)\n",
    "    # go through this list and generate n grams from that, so (1,2,3) -> (1,2) + (1,2,3) \n",
    "    # when you see 1, 2 is next, when you see 1,2. 3 is next\n",
    "    for i in range(1, len(token_list)): \n",
    "        n_gram_sequences = token_list[:i+1]\n",
    "        input_sequences.append(n_gram_sequences)\n",
    "\n",
    "# first line :[51, 12, 96, 1217, 48, 2, 69]   \n",
    "# input_sequences = subset of first line\n",
    "print(input_sequences[0:6])"
   ]
  },
  {
   "cell_type": "code",
   "execution_count": 90,
   "metadata": {},
   "outputs": [
    {
     "name": "stdout",
     "output_type": "stream",
     "text": [
      "[[   0    0    0 ...    0   51   12]\n",
      " [   0    0    0 ...   51   12   96]\n",
      " [   0    0    0 ...   12   96 1217]\n",
      " ...\n",
      " [   0    0    0 ...    0   47  105]\n",
      " [   0    0    0 ...   47  105  138]\n",
      " [   0    0    0 ...  105  138  184]]\n"
     ]
    }
   ],
   "source": [
    "max_sequence_len = max([len(x) for x in input_sequences])\n",
    "\n",
    "input_sequences = np.array(pad_sequences(input_sequences, maxlen = max_sequence_len, padding = 'pre'))\n",
    "\n",
    "print(input_sequences)"
   ]
  },
  {
   "cell_type": "code",
   "execution_count": 91,
   "metadata": {},
   "outputs": [
    {
     "name": "stdout",
     "output_type": "stream",
     "text": [
      "[[  0   0   0 ...   0   0  51]\n",
      " [  0   0   0 ...   0  51  12]\n",
      " [  0   0   0 ...  51  12  96]\n",
      " ...\n",
      " [  0   0   0 ...   0   0  47]\n",
      " [  0   0   0 ...   0  47 105]\n",
      " [  0   0   0 ...  47 105 138]]\n",
      "[  12   96 1217 ...  105  138  184]\n"
     ]
    }
   ],
   "source": [
    "X, labels = input_sequences[:,:-1], input_sequences[:,-1]\n",
    "\n",
    "print(X)\n",
    "print(labels)"
   ]
  },
  {
   "cell_type": "code",
   "execution_count": 94,
   "metadata": {},
   "outputs": [],
   "source": [
    "# set Y to be categorical and one hot encoded\n",
    "Y = tf.keras.utils.to_categorical(labels, num_classes=total_words)\n"
   ]
  },
  {
   "cell_type": "code",
   "execution_count": 97,
   "metadata": {},
   "outputs": [
    {
     "name": "stdout",
     "output_type": "stream",
     "text": [
      "Epoch 1/100\n",
      "377/377 [==============================] - 15s 41ms/step - loss: 6.6564 - accuracy: 0.0744\n",
      "Epoch 2/100\n",
      "377/377 [==============================] - 16s 41ms/step - loss: 5.7188 - accuracy: 0.1216\n",
      "Epoch 3/100\n",
      "377/377 [==============================] - 16s 41ms/step - loss: 5.1410 - accuracy: 0.1570\n",
      "Epoch 4/100\n",
      "377/377 [==============================] - 16s 42ms/step - loss: 4.9152 - accuracy: 0.1820\n",
      "Epoch 5/100\n",
      "377/377 [==============================] - 16s 42ms/step - loss: 4.0981 - accuracy: 0.2422\n",
      "Epoch 6/100\n",
      "377/377 [==============================] - 16s 42ms/step - loss: 3.1744 - accuracy: 0.3301\n",
      "Epoch 7/100\n",
      "377/377 [==============================] - 16s 43ms/step - loss: 2.6895 - accuracy: 0.3964\n",
      "Epoch 8/100\n",
      "377/377 [==============================] - 17s 46ms/step - loss: 2.3362 - accuracy: 0.4620\n",
      "Epoch 9/100\n",
      "377/377 [==============================] - 16s 43ms/step - loss: 2.0368 - accuracy: 0.5289\n",
      "Epoch 10/100\n",
      "377/377 [==============================] - 16s 43ms/step - loss: 1.8707 - accuracy: 0.5606\n",
      "Epoch 11/100\n",
      "377/377 [==============================] - 16s 43ms/step - loss: 1.7732 - accuracy: 0.5761\n",
      "Epoch 12/100\n",
      "377/377 [==============================] - 16s 41ms/step - loss: 1.6108 - accuracy: 0.6067\n",
      "Epoch 13/100\n",
      "377/377 [==============================] - 17s 44ms/step - loss: 1.5712 - accuracy: 0.6201\n",
      "Epoch 14/100\n",
      "377/377 [==============================] - 16s 43ms/step - loss: 1.5160 - accuracy: 0.6283\n",
      "Epoch 15/100\n",
      "377/377 [==============================] - 16s 43ms/step - loss: 1.4475 - accuracy: 0.6396\n",
      "Epoch 16/100\n",
      "377/377 [==============================] - 16s 43ms/step - loss: 1.3931 - accuracy: 0.6548\n",
      "Epoch 17/100\n",
      "377/377 [==============================] - 17s 45ms/step - loss: 1.3650 - accuracy: 0.6635\n",
      "Epoch 18/100\n",
      "377/377 [==============================] - 19s 49ms/step - loss: 1.3273 - accuracy: 0.6722\n",
      "Epoch 19/100\n",
      "377/377 [==============================] - 17s 45ms/step - loss: 1.3982 - accuracy: 0.6610\n",
      "Epoch 20/100\n",
      "377/377 [==============================] - 16s 43ms/step - loss: 1.3445 - accuracy: 0.6695\n",
      "Epoch 21/100\n",
      "377/377 [==============================] - 17s 44ms/step - loss: 1.3573 - accuracy: 0.6643\n",
      "Epoch 22/100\n",
      "377/377 [==============================] - 17s 45ms/step - loss: 1.3925 - accuracy: 0.6564\n",
      "Epoch 23/100\n",
      "377/377 [==============================] - 17s 44ms/step - loss: 1.3452 - accuracy: 0.6695\n",
      "Epoch 24/100\n",
      "377/377 [==============================] - 17s 44ms/step - loss: 1.2197 - accuracy: 0.6950\n",
      "Epoch 25/100\n",
      "377/377 [==============================] - 18s 46ms/step - loss: 1.1526 - accuracy: 0.7147\n",
      "Epoch 26/100\n",
      "377/377 [==============================] - 20s 54ms/step - loss: 1.1308 - accuracy: 0.7199\n",
      "Epoch 27/100\n",
      "377/377 [==============================] - 19s 50ms/step - loss: 1.1470 - accuracy: 0.7174\n",
      "Epoch 28/100\n",
      "377/377 [==============================] - 18s 49ms/step - loss: 1.2275 - accuracy: 0.6964\n",
      "Epoch 29/100\n",
      "377/377 [==============================] - 19s 51ms/step - loss: 1.3009 - accuracy: 0.6851\n",
      "Epoch 30/100\n",
      "377/377 [==============================] - 19s 50ms/step - loss: 1.2503 - accuracy: 0.6922\n",
      "Epoch 31/100\n",
      "377/377 [==============================] - 18s 47ms/step - loss: 1.2638 - accuracy: 0.6920\n",
      "Epoch 32/100\n",
      "377/377 [==============================] - 18s 47ms/step - loss: 1.2132 - accuracy: 0.7015\n",
      "Epoch 33/100\n",
      "377/377 [==============================] - 17s 46ms/step - loss: 1.0936 - accuracy: 0.7239\n",
      "Epoch 34/100\n",
      "377/377 [==============================] - 17s 46ms/step - loss: 1.0336 - accuracy: 0.7438\n",
      "Epoch 35/100\n",
      "377/377 [==============================] - 17s 45ms/step - loss: 1.0857 - accuracy: 0.7335\n",
      "Epoch 36/100\n",
      "377/377 [==============================] - 18s 47ms/step - loss: 1.1759 - accuracy: 0.7092\n",
      "Epoch 37/100\n",
      "377/377 [==============================] - 17s 46ms/step - loss: 1.1854 - accuracy: 0.7045\n",
      "Epoch 38/100\n",
      "377/377 [==============================] - 17s 44ms/step - loss: 1.2105 - accuracy: 0.7026\n",
      "Epoch 39/100\n",
      "377/377 [==============================] - 18s 46ms/step - loss: 1.2186 - accuracy: 0.7005\n",
      "Epoch 40/100\n",
      "377/377 [==============================] - 18s 48ms/step - loss: 1.2017 - accuracy: 0.7098\n",
      "Epoch 41/100\n",
      "377/377 [==============================] - 17s 44ms/step - loss: 1.2000 - accuracy: 0.7044\n",
      "Epoch 42/100\n",
      "377/377 [==============================] - 17s 45ms/step - loss: 1.1623 - accuracy: 0.7099\n",
      "Epoch 43/100\n",
      "377/377 [==============================] - 18s 47ms/step - loss: 1.1654 - accuracy: 0.7119\n",
      "Epoch 44/100\n",
      "377/377 [==============================] - 17s 44ms/step - loss: 1.0810 - accuracy: 0.7318\n",
      "Epoch 45/100\n",
      "377/377 [==============================] - 17s 46ms/step - loss: 1.0600 - accuracy: 0.7371\n",
      "Epoch 46/100\n",
      "377/377 [==============================] - 17s 46ms/step - loss: 1.0172 - accuracy: 0.7435\n",
      "Epoch 47/100\n",
      "377/377 [==============================] - 17s 46ms/step - loss: 1.0339 - accuracy: 0.7452\n",
      "Epoch 48/100\n",
      "377/377 [==============================] - 17s 45ms/step - loss: 1.0690 - accuracy: 0.7404\n",
      "Epoch 49/100\n",
      "377/377 [==============================] - 18s 46ms/step - loss: 1.0914 - accuracy: 0.7331\n",
      "Epoch 50/100\n",
      "377/377 [==============================] - 17s 46ms/step - loss: 1.0862 - accuracy: 0.7348\n",
      "Epoch 51/100\n",
      "377/377 [==============================] - 18s 47ms/step - loss: 1.0912 - accuracy: 0.7347\n",
      "Epoch 52/100\n",
      "377/377 [==============================] - 17s 46ms/step - loss: 1.0973 - accuracy: 0.7336\n",
      "Epoch 53/100\n",
      "377/377 [==============================] - 16s 43ms/step - loss: 1.1058 - accuracy: 0.7302\n",
      "Epoch 54/100\n",
      "377/377 [==============================] - 18s 47ms/step - loss: 1.1091 - accuracy: 0.7261\n",
      "Epoch 55/100\n",
      "377/377 [==============================] - 17s 45ms/step - loss: 1.1453 - accuracy: 0.7223\n",
      "Epoch 56/100\n",
      "377/377 [==============================] - 17s 46ms/step - loss: 1.0988 - accuracy: 0.7305\n",
      "Epoch 57/100\n",
      "377/377 [==============================] - 18s 47ms/step - loss: 1.0813 - accuracy: 0.7363\n",
      "Epoch 58/100\n",
      "377/377 [==============================] - 18s 47ms/step - loss: 1.0888 - accuracy: 0.7326\n",
      "Epoch 59/100\n",
      "377/377 [==============================] - 17s 46ms/step - loss: 1.0198 - accuracy: 0.7528\n",
      "Epoch 60/100\n",
      "377/377 [==============================] - 18s 47ms/step - loss: 0.9842 - accuracy: 0.7601\n",
      "Epoch 61/100\n",
      "377/377 [==============================] - 20s 52ms/step - loss: 1.0056 - accuracy: 0.7555\n",
      "Epoch 62/100\n",
      "377/377 [==============================] - 17s 46ms/step - loss: 1.0468 - accuracy: 0.7514\n",
      "Epoch 63/100\n",
      "377/377 [==============================] - 17s 46ms/step - loss: 1.0660 - accuracy: 0.7436\n",
      "Epoch 64/100\n",
      "377/377 [==============================] - 18s 47ms/step - loss: 1.1095 - accuracy: 0.7312\n",
      "Epoch 65/100\n",
      "377/377 [==============================] - 18s 46ms/step - loss: 1.0987 - accuracy: 0.7314\n",
      "Epoch 66/100\n",
      "377/377 [==============================] - 16s 42ms/step - loss: 1.1231 - accuracy: 0.7323\n",
      "Epoch 67/100\n",
      "377/377 [==============================] - 17s 45ms/step - loss: 1.1044 - accuracy: 0.7392\n",
      "Epoch 68/100\n",
      "377/377 [==============================] - 17s 45ms/step - loss: 1.1000 - accuracy: 0.7398\n",
      "Epoch 69/100\n",
      "377/377 [==============================] - 18s 46ms/step - loss: 1.0511 - accuracy: 0.7495\n",
      "Epoch 70/100\n",
      "377/377 [==============================] - 17s 46ms/step - loss: 1.0263 - accuracy: 0.7519\n",
      "Epoch 71/100\n",
      "377/377 [==============================] - 17s 46ms/step - loss: 1.0305 - accuracy: 0.7534\n",
      "Epoch 72/100\n",
      "377/377 [==============================] - 18s 47ms/step - loss: 1.0571 - accuracy: 0.7469\n",
      "Epoch 73/100\n",
      "377/377 [==============================] - 18s 47ms/step - loss: 1.0328 - accuracy: 0.7505\n",
      "Epoch 74/100\n",
      "377/377 [==============================] - 18s 47ms/step - loss: 1.0511 - accuracy: 0.7497\n",
      "Epoch 75/100\n",
      "377/377 [==============================] - 17s 46ms/step - loss: 1.0569 - accuracy: 0.7450\n",
      "Epoch 76/100\n",
      "377/377 [==============================] - 18s 47ms/step - loss: 1.0731 - accuracy: 0.7390\n",
      "Epoch 77/100\n",
      "377/377 [==============================] - 19s 50ms/step - loss: 1.0648 - accuracy: 0.7419\n",
      "Epoch 78/100\n",
      "377/377 [==============================] - 18s 48ms/step - loss: 1.0662 - accuracy: 0.7421\n",
      "Epoch 79/100\n"
     ]
    },
    {
     "name": "stdout",
     "output_type": "stream",
     "text": [
      "377/377 [==============================] - 16s 42ms/step - loss: 1.0989 - accuracy: 0.7453\n",
      "Epoch 80/100\n",
      "377/377 [==============================] - 16s 42ms/step - loss: 1.1584 - accuracy: 0.7353\n",
      "Epoch 81/100\n",
      "377/377 [==============================] - 16s 42ms/step - loss: 1.0978 - accuracy: 0.7418\n",
      "Epoch 82/100\n",
      "377/377 [==============================] - 16s 42ms/step - loss: 1.0547 - accuracy: 0.7495\n",
      "Epoch 83/100\n",
      "377/377 [==============================] - 16s 42ms/step - loss: 1.0452 - accuracy: 0.7542\n",
      "Epoch 84/100\n",
      "377/377 [==============================] - 16s 42ms/step - loss: 1.0393 - accuracy: 0.7556\n",
      "Epoch 85/100\n",
      "377/377 [==============================] - 16s 42ms/step - loss: 1.0476 - accuracy: 0.7541\n",
      "Epoch 86/100\n",
      "377/377 [==============================] - 16s 43ms/step - loss: 1.0530 - accuracy: 0.7523\n",
      "Epoch 87/100\n",
      "377/377 [==============================] - 16s 43ms/step - loss: 1.0423 - accuracy: 0.7556\n",
      "Epoch 88/100\n",
      "377/377 [==============================] - 16s 42ms/step - loss: 1.0126 - accuracy: 0.7621\n",
      "Epoch 89/100\n",
      "377/377 [==============================] - 16s 42ms/step - loss: 0.9746 - accuracy: 0.7662\n",
      "Epoch 90/100\n",
      "377/377 [==============================] - 16s 42ms/step - loss: 0.9752 - accuracy: 0.7707\n",
      "Epoch 91/100\n",
      "377/377 [==============================] - 16s 43ms/step - loss: 1.0131 - accuracy: 0.7618\n",
      "Epoch 92/100\n",
      "377/377 [==============================] - 16s 43ms/step - loss: 1.0140 - accuracy: 0.7592\n",
      "Epoch 93/100\n",
      "377/377 [==============================] - 16s 43ms/step - loss: 1.0456 - accuracy: 0.7539\n",
      "Epoch 94/100\n",
      "377/377 [==============================] - 16s 41ms/step - loss: 1.0216 - accuracy: 0.7559\n",
      "Epoch 95/100\n",
      "377/377 [==============================] - 16s 42ms/step - loss: 1.0391 - accuracy: 0.7574\n",
      "Epoch 96/100\n",
      "377/377 [==============================] - 16s 43ms/step - loss: 1.0148 - accuracy: 0.7621\n",
      "Epoch 97/100\n",
      "377/377 [==============================] - 16s 42ms/step - loss: 1.0463 - accuracy: 0.7536\n",
      "Epoch 98/100\n",
      "377/377 [==============================] - 16s 43ms/step - loss: 1.1084 - accuracy: 0.7347\n",
      "Epoch 99/100\n",
      "377/377 [==============================] - 16s 42ms/step - loss: 1.1067 - accuracy: 0.7358\n",
      "Epoch 100/100\n",
      "377/377 [==============================] - 16s 42ms/step - loss: 1.0388 - accuracy: 0.7546\n"
     ]
    }
   ],
   "source": [
    "from tensorflow.keras.models import Sequential\n",
    "from tensorflow.keras.layers import Embedding, LSTM, Dense, Bidirectional\n",
    "from tensorflow.keras.optimizers import Adam\n",
    "\n",
    "model = Sequential() # start with a sequential\n",
    "# adds an embedding, since it is massive numbers of words, set dimension to 240\n",
    "model.add(Embedding(total_words, 240, input_length = max_sequence_len-1)) \n",
    "model.add(Bidirectional(LSTM(150)))\n",
    "model.add(Dense(total_words, activation = 'softmax'))\n",
    "adam = Adam(lr = 0.01)\n",
    "model.compile(loss = 'categorical_crossentropy', optimizer = adam, metrics = ['accuracy'])\n",
    "history = model.fit(X, Y, epochs = 100, verbose = 1)"
   ]
  },
  {
   "cell_type": "code",
   "execution_count": 98,
   "metadata": {},
   "outputs": [],
   "source": [
    "import matplotlib.pyplot as plt\n",
    "\n",
    "def plot_graphs(history, string):\n",
    "    plt.plot(history.history[string])\n",
    "    plt.xlabel('Epochs')\n",
    "    plt.ylabel(string)\n",
    "    plt.show()"
   ]
  },
  {
   "cell_type": "code",
   "execution_count": 99,
   "metadata": {},
   "outputs": [
    {
     "data": {
      "image/png": "[encoded data removed]",
      "text/plain": [
       "<Figure size 432x288 with 1 Axes>"
      ]
     },
     "metadata": {
      "needs_background": "light"
     },
     "output_type": "display_data"
    }
   ],
   "source": [
    "plot_graphs(history, 'accuracy')"
   ]
  },
  {
   "cell_type": "code",
   "execution_count": 101,
   "metadata": {},
   "outputs": [
    {
     "name": "stdout",
     "output_type": "stream",
     "text": [
      "****************\n",
      "I made a poetry machine back to beautiful vale of tralee in a tiny town from town across ye down then till wid irish lass\n"
     ]
    }
   ],
   "source": [
    "seed_text = 'I made a poetry machine'\n",
    "next_words = 20\n",
    "\n",
    "for _ in range(next_words):\n",
    "    token_list = tokenizer.texts_to_sequences([seed_text])[0]\n",
    "    token_list = pad_sequences([token_list], maxlen= max_sequence_len - 1, padding='pre')\n",
    "    predicted = model.predict_classes(token_list, verbose = 0)\n",
    "    output_word = ''\n",
    "    for word, index in tokenizer.word_index.items():\n",
    "        if index == predicted:\n",
    "            output_word = word\n",
    "            break\n",
    "    seed_text += ' ' + output_word\n",
    "print(\"****************\")\n",
    "print(seed_text)"
   ]
  },
  {
   "cell_type": "code",
   "execution_count": null,
   "metadata": {},
   "outputs": [],
   "source": []
  }
 ],
 "metadata": {
  "kernelspec": {
   "display_name": "Python 3",
   "language": "python",
   "name": "python3"
  },
  "language_info": {
   "codemirror_mode": {
    "name": "ipython",
    "version": 3
   },
   "file_extension": ".py",
   "mimetype": "text/x-python",
   "name": "python",
   "nbconvert_exporter": "python",
   "pygments_lexer": "ipython3",
   "version": "3.7.4"
  }
 },
 "nbformat": 4,
 "nbformat_minor": 2
}
